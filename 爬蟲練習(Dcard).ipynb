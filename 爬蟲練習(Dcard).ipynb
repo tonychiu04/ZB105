{
 "cells": [
  {
   "cell_type": "markdown",
   "metadata": {},
   "source": [
    "### 爬Dcard 美食版"
   ]
  },
  {
   "cell_type": "code",
   "execution_count": 15,
   "metadata": {
    "collapsed": false
   },
   "outputs": [
    {
     "name": "stdout",
     "output_type": "stream",
     "text": [
      "<Response [200]>\n"
     ]
    }
   ],
   "source": [
    "import requests\n",
    "from bs4 import BeautifulSoup as bs\n",
    "\n",
    "\n",
    "\n",
    "url = 'https://www.dcard.tw/f/food'\n",
    "head = {'User-Agent':'Mozilla/5.0 (Windows NT 10.0; WOW64) AppleWebKit/537.36 (KHTML, like Gecko) Chrome/48.0.2564.116 Safari/537.36'}\n",
    "\n",
    "res = requests.get(url, headers = head)\n",
    "soup = bs(res.text) \n",
    "print res"
   ]
  },
  {
   "cell_type": "code",
   "execution_count": 17,
   "metadata": {
    "collapsed": false
   },
   "outputs": [
    {
     "name": "stdout",
     "output_type": "stream",
     "text": [
      "<html><body><p>[{\"id\":21074202,\"member\":{\"gender\":\"F\",\"school\":\"亞洲大學\",\"department\":\"\"},\"forum_alias\":\"food\",\"version\":[{\"title\":\"200多元的牛肉麵\",\"content\":\"今天介紹一碗價值200多的清湯牛肉麵\\n\\n\\n還不是紅燒的喔\\n還不是紅燒的喔\\n還不是紅燒的喔\\n\\n\\n但是真的很好吃又很大碗\\n本人已經不知道去吃了幾次\\n\\nhttp://i.imgur.com/oKeseX6.jpg\\n\\n\\n店名：上泓園牛肉麵\\n地址：臺中市博館路155 號\\n電話：04 – 23269077\\n營業時間：11:00 – 14:00 17:00 –21:00\",\"createdAt\":\"2016-03-16T08:31:46.983Z\"}],\"like\":6,\"likeCount\":6,\"comment\":2,\"createdAt\":\"2016-03-16T07:56:24.483Z\",\"updatedAt\":\"2016-03-16T08:17:55.719Z\",\"report_status\":true,\"report_reason\":\"false\",\"pinned\":false,\"tags\":[],\"forum_name\":\"美食\"},{\"id\":21034987,\"member\":{\"gender\":\"M\",\"school\":\"輔仁大學\",\"department\":\"\"},\"forum_alias\":\"food\",\"version\":[{\"title\":\"《分享食譜》松阪豬排\",\"content\":\"在外面很少吃到好吃的豬排，\\n總覺得不是麵衣太多，就是肉較薄...\\n還是自己在家料理才能做出想吃的口味！\\n\\n今天看到這份食\",\"createdAt\":\"2016-03-16T08:31:46.983Z\"}],\"like\":0,\"likeCount\":0,\"comment\":0,\"createdAt\":\"2016-03-16T07:43:04.946Z\",\"updatedAt\":\"2016-03-16T07:43:04.946Z\",\"report_status\":true,\"report_reason\":\"false\",\"pinned\":false,\"tags\":[],\"forum_name\":\"美食\"},{\"id\":20976569,\"member\":{\"gender\":\"M\",\"school\":\"高雄醫學大學\",\"department\":\"護理學系\"},\"forum_alias\":\"food\",\"version\":[{\"title\":\"#圖 高雄不平凡甜點 LOFT\",\"content\":\"前面兩篇台北好像不夠驚喜\\n決定用主場來彌補大家\\n\\n聽到很多人呼喊甜點的聲音，就來獻上一家自己很喜歡的高品質甜點\\nhttp\",\"createdAt\":\"2016-03-16T08:31:46.983Z\"}],\"like\":20,\"likeCount\":20,\"comment\":1,\"createdAt\":\"2016-03-16T07:20:53.929Z\",\"updatedAt\":\"2016-03-16T07:38:04.538Z\",\"report_status\":true,\"report_reason\":\"false\",\"pinned\":false,\"tags\":[],\"forum_name\":\"美食\"},{\"id\":20971526,\"member\":{\"gender\":\"F\",\"school\":\"健行科大\",\"department\":\"行銷與流通管理系\"},\"forum_alias\":\"food\",\"version\":[{\"title\":\"想問烘培小知識😭求解\",\"content\":\"首po就獻給美食版了這真的困擾我很久啊～\\n\\n一直都有在做小點心的習慣\\n最近有點碰到瓶頸需要高人指點⋯\\n\\nQ1:吉利丁跟吉\",\"createdAt\":\"2016-03-16T08:31:46.983Z\"}],\"like\":3,\"likeCount\":3,\"comment\":4,\"createdAt\":\"2016-03-16T07:18:24.853Z\",\"updatedAt\":\"2016-03-16T08:20:11.740Z\",\"report_status\":true,\"report_reason\":\"false\",\"pinned\":false,\"tags\":[\"更新\"],\"forum_name\":\"美食\"},{\"id\":20969537,\"member\":{\"gender\":\"F\",\"school\":\"東海大學\",\"department\":\"\"},\"forum_alias\":\"food\",\"version\":[{\"title\":\"#圖#台北#台中美食小分享\",\"content\":\"繼上一篇'很好吃超好吃後'\\n鹹食也來報到嘍\\n上一篇在這\\n#圖#台北/板橋美食小分享\\nhttps://www.dcard.tw/f/all/p/15226871?ref=android\\n🚩M one cafe\\n🚈捷運：忠孝復興\\n#牛小排早午餐\\n💰320\\n大概在店裡說了五次以上的好好吃\\nhttp://i.imgur.com/yFEMm0A.jpg\\n🚩金子半之助\\n🚈：北車微風廣場\\n#江戶前天丼\\n💰390+10%\\n撇開排隊跟地板油，好吃\\nhttp://i.imgur.com/33nQ3BG.\",\"createdAt\":\"2016-03-16T08:31:46.983Z\"}],\"like\":9,\"likeCount\":9,\"comment\":2,\"createdAt\":\"2016-03-16T07:16:10.749Z\",\"updatedAt\":\"2016-03-16T08:03:45.196Z\",\"report_status\":true,\"report_reason\":\"false\",\"pinned\":false,\"tags\":[\"圖#台北/板橋美食小分享\",\"牛小排早午餐\",\"江戶前天丼\",\"甘醬烤頂雞\",\"奶油鮭魚鹹派\",\"法式吐司套餐\"],\"forum_name\":\"美食\"},{\"id\":20898808,\"member\":{\"gender\":\"F\",\"school\":\"逢甲大學\",\"department\":\"財務金融學系\"},\"forum_alias\":\"food\",\"version\":[{\"title\":\"台中美食 💓\",\"content\":\"好久不見啦我又來分享了\\n最近發現好多人都在分享美食呢 燒的我都餓了\\n這次分享的是我待的台中呀\\n台中美食真的超多 我已經把\",\"createdAt\":\"2016-03-16T08:31:46.983Z\"}],\"like\":51,\"likeCount\":51,\"comment\":9,\"createdAt\":\"2016-03-16T06:47:29.951Z\",\"updatedAt\":\"2016-03-16T08:02:22.650Z\",\"report_status\":true,\"report_reason\":\"false\",\"pinned\":false,\"tags\":[],\"forum_name\":\"美食\"},{\"id\":20880253,\"member\":{\"gender\":\"M\",\"school\":\"樹德科技大學\",\"department\":\"運籌管理系\"},\"forum_alias\":\"food\",\"version\":[{\"title\":\"(跪求推薦)台北的美食\",\"content\":\"原po我是高雄人\\n因為HBL總決賽的關係這個週末要上台北\\n有沒有台北的可以推薦有沒有什麼好吃的😭😭😭\",\"createdAt\":\"2016-03-16T08:31:46.983Z\"}],\"like\":1,\"likeCount\":1,\"comment\":8,\"createdAt\":\"2016-03-16T06:41:44.528Z\",\"updatedAt\":\"2016-03-16T08:22:18.473Z\",\"report_status\":true,\"report_reason\":\"false\",\"pinned\":false,\"tags\":[],\"forum_name\":\"美食\"},{\"id\":20781328,\"member\":{\"gender\":\"F\",\"school\":\"成功大學\",\"department\":\"\"},\"forum_alias\":\"food\",\"version\":[{\"title\":\"台南美食名單 燒肉篇\",\"content\":\"如果你是燒肉控點進來就對了 👍🏻\\n話不多說直接看照片吧～😊😊😊\\n\\nhttp://i.imgur.com/1eeBe2z.jpg\\n🔥 肕 燒肉酒肆\\n吧台式的燒肉，最適合深夜來好好放鬆\\n裡面店員都非常的親切都會陪你聊天\\n而且肕的牛肉都很好吃 非常推他們的牛排\\nhttp://i.imgur.com/t7aoP69.jpg\\n🔥 碳佐麻里\\n食物選擇多\\n服務好，價位也很合理\\n相信沒有南部人不知道這一間\\n最常點就是他們的蒜粒牛五花\\nhttp://i.imgur.com/nBUXqir.jpg\\n�\",\"createdAt\":\"2016-03-16T08:31:46.983Z\"}],\"like\":28,\"likeCount\":28,\"comment\":3,\"createdAt\":\"2016-03-16T05:59:50.452Z\",\"updatedAt\":\"2016-03-16T08:26:22.001Z\",\"report_status\":true,\"report_reason\":\"false\",\"pinned\":false,\"tags\":[],\"forum_name\":\"美食\"},{\"id\":20683903,\"member\":{\"gender\":\"F\",\"school\":\"亞洲大學\",\"department\":\"時尚設計學系\"},\"forum_alias\":\"food\",\"version\":[{\"title\":\"#分享 台中中式早點\",\"content\":\"https://www.dcard.tw/f/girl/p/18614943\\nhttps://www.dcard.tw/\",\"createdAt\":\"2016-03-16T08:31:46.983Z\"}],\"like\":13,\"likeCount\":13,\"comment\":8,\"createdAt\":\"2016-03-16T05:16:16.663Z\",\"updatedAt\":\"2016-03-16T08:26:39.389Z\",\"report_status\":true,\"report_reason\":\"false\",\"pinned\":false,\"tags\":[],\"forum_name\":\"美食\"},{\"id\":20615153,\"member\":{\"gender\":\"M\",\"school\":\"高雄醫學大學\",\"department\":\"護理學系\"},\"forum_alias\":\"food\",\"version\":[{\"title\":\"#圖 台北NomNom，獨享巷弄的愜意早晨\",\"content\":\"每次po文，都會有人留言點名，最後好像變成接龍的模式了，太有趣了！\\n今天一樣應大家要求再簡單介紹一篇台北早午餐\\n\\n首篇美\",\"createdAt\":\"2016-03-16T08:31:46.983Z\"}],\"like\":14,\"likeCount\":14,\"comment\":3,\"createdAt\":\"2016-03-16T04:43:33.747Z\",\"updatedAt\":\"2016-03-16T05:06:29.187Z\",\"report_status\":true,\"report_reason\":\"false\",\"pinned\":false,\"tags\":[],\"forum_name\":\"美食\"},{\"id\":20584951,\"member\":{\"gender\":\"F\",\"school\":\"金門大學\",\"department\":\"社會工作學系\"},\"forum_alias\":\"food\",\"version\":[{\"title\":\"好吃的義大利麵\",\"content\":\"這是我第一次發文，大家請見諒\\n因為我住的地方不能開火，所以我就用萬能的大同電鍋來煮東西。\\n\\n白醬蔬菜雞肉義大利麵\\n這個不錯吃，只是有點缺點，我放太多鹽了。太鹹了\\n麵剛剛好不會太爛，雞肉也不會太老\\n我自己打65分，敗筆太鹹\\nhttp://imgur.com/Pxg4hhE\\n玉米濃湯麵\\n這個煮的很成功，既不會太鹹麵也不會太爛\\n我室友跟我妹妹覺得不錯吃\\n我自己打80分http://imgur.com/CqhNCZX\\n有沒有人也是用電鍋煮菜的，可以分享一下嗎？外面都吃膩了，有沒有是方便用電鍋煮的？\",\"createdAt\":\"2016-03-16T08:31:46.983Z\"}],\"like\":11,\"likeCount\":11,\"comment\":3,\"createdAt\":\"2016-03-16T04:25:21.988Z\",\"updatedAt\":\"2016-03-16T04:59:15.186Z\",\"report_status\":true,\"report_reason\":\"false\",\"pinned\":false,\"tags\":[],\"forum_name\":\"美食\"},{\"id\":20530156,\"member\":{\"gender\":\"F\",\"school\":\"臺灣大學\",\"department\":\"\"},\"forum_alias\":\"food\",\"version\":[{\"title\":\"卡士達藍莓塔\",\"content\":\"耶耶～～成功做出我第一個用塔圈做出來的塔囉!😏\\n今年草莓真的是有點難買 所以就用在Costco都買的到的藍莓來代替本還要做的草莓卡士達塔囉\\n\\n這個塔從底到頂依序是：\\n甜塔皮➡️杏仁奶油餡➡️卡士達醬➡️新鮮藍莓\\n\\nhttp://i.imgur.com/yViVIsq.jpg\\n\\n來一張我媽堅持的擺盤\\n\\nhttp://i.imgur.com/yUDiB6l.jpg\\n\\n用Carol的這個食譜做出來的覺得真的很好吃\\n而且卡士達醬裡加了白蘭地超香！\\n我參考一般外面在販賣的藍莓塔做裝飾\\n自己覺得外觀很美�\",\"createdAt\":\"2016-03-16T08:31:46.983Z\"}],\"like\":37,\"likeCount\":37,\"comment\":6,\"createdAt\":\"2016-03-16T03:49:30.414Z\",\"updatedAt\":\"2016-03-16T04:31:51.104Z\",\"report_status\":true,\"report_reason\":\"false\",\"pinned\":false,\"tags\":[],\"forum_name\":\"美食\"},{\"id\":20517312,\"member\":{\"gender\":\"F\",\"school\":\"輔仁大學\",\"department\":\"應用美術學系\"},\"forum_alias\":\"food\",\"version\":[{\"title\":\"🇯🇵宇治抹茶生乳酪蛋糕🍵\",\"content\":\"http://i.imgur.com/vGsl24a.jpg\\n\\n這次用了男友從日本帶回來的禮物\\n一小罐宇治抹茶粉！！小小\",\"createdAt\":\"2016-03-16T08:31:46.983Z\"}],\"like\":58,\"likeCount\":58,\"comment\":2,\"createdAt\":\"2016-03-16T03:42:22.083Z\",\"updatedAt\":\"2016-03-16T05:18:06.990Z\",\"report_status\":true,\"report_reason\":\"false\",\"pinned\":false,\"tags\":[],\"forum_name\":\"美食\"},{\"id\":20366832,\"member\":{\"gender\":\"F\",\"school\":\"淡江大學\",\"department\":\"英文學系\"},\"forum_alias\":\"food\",\"version\":[{\"title\":\"香草重乳酪feat檸檬醬\",\"content\":\"半夜心血來潮烤了個乳酪蛋糕\\n選擇用乾烤而不是平常蒸烤的方式\\n乳酪口感吃起來軟嫩綿密 外皮有著微Q的口感跟濃郁乳酪香氣\\n\\n單吃就是奶香十足的一塊蛋糕\\n加上檸檬奶醬味道酸甜不膩口\\n即使熱量很高但還是忍不住一口口吃完了\\nhttp://i.imgur.com/x6JteyG.jpg\",\"createdAt\":\"2016-03-16T08:31:46.983Z\"}],\"like\":27,\"likeCount\":27,\"comment\":5,\"createdAt\":\"2016-03-16T02:29:16.539Z\",\"updatedAt\":\"2016-03-16T03:37:26.268Z\",\"report_status\":true,\"report_reason\":\"false\",\"pinned\":false,\"tags\":[],\"forum_name\":\"美食\"},{\"id\":20180673,\"member\":{\"gender\":\"F\",\"school\":\"英屬哥倫比亞大學\",\"department\":\"心理學系\"},\"forum_alias\":\"food\",\"version\":[{\"title\":\"#圖 bento box\",\"content\":\"最近壓力好大 心情也一直很down😣 \\n每次壓力一來就想做點食物舒壓\\n這次做的是給妹妹的便當\\n\\n配菜有～\\n水煮花椰菜\\n\",\"createdAt\":\"2016-03-16T08:31:46.983Z\"}],\"like\":33,\"likeCount\":33,\"comment\":3,\"createdAt\":\"2016-03-15T23:57:33.365Z\",\"updatedAt\":\"2016-03-16T00:24:30.767Z\",\"report_status\":true,\"report_reason\":\"false\",\"pinned\":false,\"tags\":[],\"forum_name\":\"美食\"},{\"id\":20070806,\"member\":{\"gender\":\"M\",\"school\":\"淡江大學\",\"department\":\"\"},\"forum_alias\":\"food\",\"version\":[{\"title\":\"#圖 電鍋出任務－咖哩\",\"content\":\"我是女生🙌\\n－－－－－－－－－－－－－－－－－－－\\n之前在男友租屋處只有電鍋\\n所以就煮了他愛吃的咖哩\\n我本身是不愛咖哩的\\n因為小時候被學校營養午餐的咖哩嚇到…\\n\\n\\n\\n雞肉咖哩\\n附圖:http://imgur.com/LZaKHus\\n我不愛紅蘿蔔所以就省略沒加了哈哈😁\\n紅色的是蕃茄🍅\\n(筷子是來測試馬鈴薯煮爛了沒入味了沒)\\n\\n\\n\\n盛碗:http://imgur.com/V53oLfG\\n(我自己愛吃小玉米我就加了!很好吃👍)\\n\\n\\n\\n當晚男友下班回來馬上吃光光\\n覺得開心😍\\n也煮過給我朋友和室\",\"createdAt\":\"2016-03-16T08:31:46.983Z\"}],\"like\":36,\"likeCount\":36,\"comment\":8,\"createdAt\":\"2016-03-15T19:22:13.575Z\",\"updatedAt\":\"2016-03-16T08:02:03.878Z\",\"report_status\":true,\"report_reason\":\"false\",\"pinned\":false,\"tags\":[],\"forum_name\":\"美食\"},{\"id\":19960113,\"member\":{\"gender\":\"F\",\"school\":\"臺北醫學大學\",\"department\":\"\"},\"forum_alias\":\"food\",\"version\":[{\"title\":\"#圖 Oreo起司蛋糕(需烤)\",\"content\":\"之前一直被板上的Oreo 起司蛋糕燒到，就趁著前幾天做分給大家，一起囤積脂肪好度過寒冷孤單的情人節XD\\n板上幾乎都是免烤版。因為家裡有烤箱，覺得不用白不用，所以就找了需要烤的食譜來做看看(笑)\\n比起輕乳酪，我覺得重乳酪真的簡單很多~這次最難的任務反而是把Oreo弄碎，早知道就直接買弄碎的=3=\\n先把Oreo碎混奶油鋪底稍微烤個幾分鐘，再把起司糊倒進去烤。\\n然後就成了這個樣子\\nhttp://i.imgur.com/h21Xi34.jpg\\n用馬芬模烤的，是不是頗小巧可愛呀(灑花)\\n賣相好像還不錯，可\",\"createdAt\":\"2016-03-16T08:31:46.983Z\"}],\"like\":27,\"likeCount\":27,\"comment\":3,\"createdAt\":\"2016-03-15T18:16:38.560Z\",\"updatedAt\":\"2016-03-16T06:10:47.481Z\",\"report_status\":true,\"report_reason\":\"false\",\"pinned\":false,\"tags\":[],\"forum_name\":\"美食\"},{\"id\":19945104,\"member\":{\"gender\":\"F\",\"school\":\"輔仁大學\",\"department\":\"\"},\"forum_alias\":\"food\",\"version\":[{\"title\":\"#圖。電鍋出好菜！蒜泥蝦粉（豆腐）\",\"content\":\"超級簡單一下就上手！\\n\\n第一次po美食板見諒😂\\n \\n相信很多同學都外宿，一定也偶爾想要煮點東西來吃省錢又健康\\n（但我的\",\"createdAt\":\"2016-03-16T08:31:46.983Z\"}],\"like\":35,\"likeCount\":35,\"comment\":3,\"createdAt\":\"2016-03-15T18:11:22.069Z\",\"updatedAt\":\"2016-03-16T05:35:33.750Z\",\"report_status\":true,\"report_reason\":\"false\",\"pinned\":false,\"tags\":[],\"forum_name\":\"美食\"},{\"id\":19919770,\"member\":{\"gender\":\"F\",\"school\":\"東吳大學\",\"department\":\"企業管理系\"},\"forum_alias\":\"food\",\"version\":[{\"title\":\"#圖 滑嫩滑嫩的洋蔥蒸蛋\",\"content\":\"來分享一下最近的煮的～\\nhttp://i.imgur.com/Vsd4bZD.jpg\\n\\n左上角的不明物體就是今天的主角😂😂\\n\\n好呢你首先需要\\n像碗的洋蔥*2\\n蛋*1\\n水\\n高湯\\n胡椒鹽\\n\\n\\n\\nhttp://i.imgur.com/prMEJPq.jpg\\nhttp://i.imgur.com/82y1ELZ.jpg\\n\\n把蛋黃蛋白打在一起的時候記得用刀子喔，這樣蛋會比較滑順～\\n\\n\\nhttp://i.imgur.com/oDWP7u5.jpg\\n\\n把洋蔥放在平底鍋上，等油開始熱\\n\\n\\nhttp://i.\",\"createdAt\":\"2016-03-16T08:31:46.983Z\"}],\"like\":41,\"likeCount\":41,\"comment\":9,\"createdAt\":\"2016-03-15T18:00:38.605Z\",\"updatedAt\":\"2016-03-16T08:17:58.284Z\",\"report_status\":true,\"report_reason\":\"false\",\"pinned\":false,\"tags\":[],\"forum_name\":\"美食\"},{\"id\":19859248,\"member\":{\"gender\":\"F\",\"school\":\"嘉南藥理大學\",\"department\":\"生活應用與保健系\"},\"forum_alias\":\"food\",\"version\":[{\"title\":\"#圖 #台南 #甜點文 #開始發起愛吃甜點的我\",\"content\":\"凱西姨姨手作甜點\\n台南市民權路三段199號\\n星空馬卡龍\\nhttp://i.imgur.com/kx0bAVs.jpg\\n每\",\"createdAt\":\"2016-03-16T08:31:46.983Z\"}],\"like\":53,\"likeCount\":53,\"comment\":2,\"createdAt\":\"2016-03-15T17:40:33.246Z\",\"updatedAt\":\"2016-03-16T06:39:08.092Z\",\"report_status\":true,\"report_reason\":\"false\",\"pinned\":false,\"tags\":[],\"forum_name\":\"美食\"}]</p></body></html>\n"
     ]
    }
   ],
   "source": [
    "#dcard 是使用 api 的呼叫存取方式\n",
    "t_url = 'https://www.dcard.tw/api/forum/food/' #抓取title的地方\n",
    "c_url = 'https://www.dcard.tw/api/post/food/' #抓取內文的地方\n",
    "\n",
    "#測試list抓取\n",
    "\n",
    "res = requests.get(t_url+'1', headers = head)  #t_url加上'頁數'\n",
    "soup = bs(res.text)\n",
    "\n",
    "print soup"
   ]
  },
  {
   "cell_type": "markdown",
   "metadata": {},
   "source": [
    "### json格式"
   ]
  },
  {
   "cell_type": "code",
   "execution_count": 38,
   "metadata": {
    "collapsed": true
   },
   "outputs": [
    {
     "name": "stdout",
     "output_type": "stream",
     "text": [
      "文章ID :  21074202\n",
      "文章標題 :  200多元的牛肉麵\n",
      "文章時間 :  2016-03-16T08:31:46.983Z\n",
      "==================================================\n",
      "今天介紹一碗價值200多的清湯牛肉麵\n",
      "\n",
      "\n",
      "還不是紅燒的喔\n",
      "還不是紅燒的喔\n",
      "還不是紅燒的喔\n",
      "\n",
      "\n",
      "但是真的很好吃又很大碗\n",
      "本人已經不知道去吃了幾次\n",
      "\n",
      "http://i.imgur.com/oKeseX6.jpg\n",
      "\n",
      "\n",
      "店名：上泓園牛肉麵\n",
      "地址：臺中市博館路155 號\n",
      "電話：04 – 23269077\n",
      "營業時間：11:00 – 14:00 17:00 –21:00\n"
     ]
    }
   ],
   "source": [
    "import json\n",
    "\n",
    "data = json.loads(res.text)\n",
    "\n",
    "#print type(data) #data屬性\n",
    "\n",
    "#print data[0]\n",
    "print '文章ID : ', data[0]['id'] \n",
    "#print data[0]['version']\n",
    "print '文章標題 : ', data[0]['version'][0]['title']  #title\n",
    "print '文章時間 : ', data[0]['version'][0]['createdAt'] #時間\n",
    "print '=================================================='\n",
    "print data[0]['version'][0]['content'] #好像是預覽內文"
   ]
  },
  {
   "cell_type": "markdown",
   "metadata": {},
   "source": [
    "### 可以寫個迴圈，抓出所有的ID，來看內文"
   ]
  },
  {
   "cell_type": "code",
   "execution_count": 50,
   "metadata": {
    "collapsed": false
   },
   "outputs": [
    {
     "name": "stdout",
     "output_type": "stream",
     "text": [
      "21074202 200多元的牛肉麵\n",
      "21034987 《分享食譜》松阪豬排\n",
      "20976569 #圖 高雄不平凡甜點 LOFT\n",
      "20971526 想問烘培小知識😭求解\n",
      "20969537 #圖#台北#台中美食小分享\n",
      "20898808 台中美食 💓\n",
      "20880253 (跪求推薦)台北的美食\n",
      "20781328 台南美食名單 燒肉篇\n",
      "20683903 #分享 台中中式早點\n",
      "20615153 #圖 台北NomNom，獨享巷弄的愜意早晨\n",
      "20584951 好吃的義大利麵\n",
      "20530156 卡士達藍莓塔\n",
      "20517312 🇯🇵宇治抹茶生乳酪蛋糕🍵\n",
      "20366832 香草重乳酪feat檸檬醬\n",
      "20180673 #圖 bento box\n",
      "20070806 #圖 電鍋出任務－咖哩\n",
      "19960113 #圖 Oreo起司蛋糕(需烤)\n",
      "19945104 #圖。電鍋出好菜！蒜泥蝦粉（豆腐）\n",
      "19919770 #圖 滑嫩滑嫩的洋蔥蒸蛋\n",
      "19859248 #圖 #台南 #甜點文 #開始發起愛吃甜點的我\n"
     ]
    }
   ],
   "source": [
    "PostId = []\n",
    "\n",
    "for i in data:\n",
    "    print i['id'], i['version'][0]['title']\n",
    "    PostId.append(i[\"id\"])"
   ]
  },
  {
   "cell_type": "code",
   "execution_count": 67,
   "metadata": {
    "collapsed": false
   },
   "outputs": [
    {
     "name": "stdout",
     "output_type": "stream",
     "text": [
      "<html><body><p>{\"id\":21074202,\"member\":{\"gender\":\"F\",\"school\":\"亞洲大學\",\"department\":\"\"},\"forum_alias\":\"food\",\"version\":[{\"title\":\"200多元的牛肉麵\",\"content\":\"今天介紹一碗價值200多的清湯牛肉麵\\n\\n\\n還不是紅燒的喔\\n還不是紅燒的喔\\n還不是紅燒的喔\\n\\n\\n但是真的很好吃又很大碗\\n本人已經不知道去吃了幾次\\n\\nhttp://i.imgur.com/oKeseX6.jpg\\n\\n\\n店名：上泓園牛肉麵\\n地址：臺中市博館路155 號\\n電話：04 – 23269077\\n營業時間：11:00 – 14:00 17:00 –21:00\",\"createdAt\":\"2016-03-16T07:56:24.483Z\"}],\"excerpt\":\"今天介紹一碗價值200多的清湯牛肉麵\\n\\n\\n還不是紅燒的喔\\n還不是紅燒的喔\\n還不是紅燒的喔\\n\\n\\n但是真的很好吃又很大碗\\n本人已經不知道去吃了幾次\\n\\nhttp://i.imgur.com/oKeseX6.jpg\\n\\n\\n店名：上泓園牛肉麵\\n地址：臺中市博館路155 號\\n電話：04 – 23269077\\n營業時間：11:00 – 14:00 17:00 –21:00\",\"like\":8,\"likeCount\":8,\"comment\":[{\"member\":{\"gender\":\"M\",\"school\":\"明新科技大學\",\"department\":\"資訊管理系\"},\"_id\":\"56e912ff5ef046b504a3c6e1\",\"version\":[{\"content\":\"推！超好吃😂😂\",\"createdAt\":\"2016-03-16T08:02:07.745Z\"}],\"like\":1,\"hidden\":false,\"anonymous\":false,\"host\":false,\"num\":0,\"currentUser\":false,\"isLiked\":false},{\"member\":{\"gender\":\"F\",\"school\":\"朝陽科大\",\"department\":\"\"},\"_id\":\"56e916b32954eedf47a84395\",\"version\":[{\"content\":\"推 ! 而且店家態度很好\\n湯頭鮮甜 !\",\"createdAt\":\"2016-03-16T08:17:55.719Z\"}],\"like\":0,\"hidden\":false,\"anonymous\":true,\"host\":false,\"num\":0,\"currentUser\":false,\"isLiked\":false},{\"member\":{\"gender\":\"F\",\"school\":\"亞洲大學\",\"department\":\"\"},\"_id\":\"56e91db49c18a96d79d1f32c\",\"version\":[{\"content\":\"B2超愛那裡可愛的奶奶😂\",\"createdAt\":\"2016-03-16T08:47:48.290Z\"}],\"like\":0,\"hidden\":false,\"anonymous\":true,\"host\":true,\"num\":0,\"currentUser\":false,\"isLiked\":false}],\"commentCount\":3,\"follow\":false,\"createdAt\":\"2016-03-16T07:56:24.483Z\",\"updatedAt\":\"2016-03-16T08:47:48.290Z\",\"reply\":-1,\"report_status\":true,\"report_reason\":\"false\",\"anonymousSchool\":false,\"anonymousDepartment\":true,\"pinned\":false,\"tags\":[],\"forum_name\":\"美食\",\"isLiked\":false,\"currentUser\":false,\"you\":{},\"precious\":false,\"unreadComments\":0,\"fromNoti\":false}</p></body></html>\n"
     ]
    }
   ],
   "source": [
    "#print type(PostId[0]) #數值格式\n",
    "#res = requests.get(c_url+PostId[0], headers = head)  #int格式 要轉換!\n",
    "#res = requests.get(c_url+'{}'.format(PostId[0]), headers = head) #方法一\n",
    "res = requests.get(c_url+str(PostId[0]), headers = head) #方法二\n",
    "soup = bs(res.text)\n",
    "\n",
    "print soup"
   ]
  }
 ],
 "metadata": {
  "kernelspec": {
   "display_name": "Python 2",
   "language": "python",
   "name": "python2"
  },
  "language_info": {
   "codemirror_mode": {
    "name": "ipython",
    "version": 2
   },
   "file_extension": ".py",
   "mimetype": "text/x-python",
   "name": "python",
   "nbconvert_exporter": "python",
   "pygments_lexer": "ipython2",
   "version": "2.7.11"
  }
 },
 "nbformat": 4,
 "nbformat_minor": 0
}
