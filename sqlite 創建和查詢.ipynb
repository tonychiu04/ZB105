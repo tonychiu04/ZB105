{
 "cells": [
  {
   "cell_type": "markdown",
   "metadata": {},
   "source": [
    "### 測試表特版"
   ]
  },
  {
   "cell_type": "code",
   "execution_count": 8,
   "metadata": {
    "collapsed": false
   },
   "outputs": [
    {
     "name": "stdout",
     "output_type": "stream",
     "text": [
      "<Response [200]>\n"
     ]
    }
   ],
   "source": [
    "import requests\n",
    "import shutil\n",
    "\n",
    "head = {'User-Agent':'Mozilla/5.0 (Windows NT 6.1; WOW64) AppleWebKit/537.36 (KHTML, like Gecko) Chrome/48.0.2564.116 Safari/537.36'}\n",
    "url = 'https://www.ptt.cc/bbs/Beauty/index.html'\n",
    "\n",
    "res = requests.get(url, headers=head,stream=True)\n",
    "\n",
    "print res"
   ]
  },
  {
   "cell_type": "code",
   "execution_count": 10,
   "metadata": {
    "collapsed": false,
    "scrolled": true
   },
   "outputs": [
    {
     "name": "stdout",
     "output_type": "stream",
     "text": [
      "[神人]\n",
      "Azar小帥弟\n",
      "3/24\n",
      "qaaq0008\n",
      "https://www.ptt.cc/bbs/Beauty/M.1458813542.A.7EB.html\n",
      "[神人]\n",
      "日本來台交換生\n",
      "3/24\n",
      "rufur\n",
      "https://www.ptt.cc/bbs/Beauty/M.1458816074.A.376.html\n",
      "[公告]\n",
      "不願上表特\n",
      "10/04\n",
      "ffwind\n",
      "https://www.ptt.cc/bbs/Beauty/M.1443906121.A.65B.html\n",
      "[公告]\n",
      "表特板板規\n",
      "2/12\n",
      "GeminiMan\n",
      "https://www.ptt.cc/bbs/Beauty/M.1423752558.A.849.html\n",
      "[公告]\n",
      "對於謾罵，希望大家將心比心\n",
      "4/27\n",
      "ffwind\n",
      "https://www.ptt.cc/bbs/Beauty/M.1430099938.A.3B7.html\n"
     ]
    }
   ],
   "source": [
    "from bs4 import BeautifulSoup as bs\n",
    "\n",
    "soup = bs(res.text)\n",
    "div = soup.select('.r-ent')\n",
    "for i in div:\n",
    "    try:\n",
    "        print i.select(\".title a\")[0].contents[0].split(' ')[0] \n",
    "        print i.select(\".title a\")[0].contents[0].split(' ')[1] \n",
    "        print i.select(\".date\")[0].contents[0].strip()\n",
    "        print i.select(\".author\")[0].contents[0]\n",
    "        print 'https://www.ptt.cc'+i.select(\".title a\")[0]['href']\n",
    "    except:\n",
    "        pass\n"
   ]
  },
  {
   "cell_type": "markdown",
   "metadata": {},
   "source": [
    "### 先新增sqlite"
   ]
  },
  {
   "cell_type": "code",
   "execution_count": 25,
   "metadata": {
    "collapsed": false
   },
   "outputs": [
    {
     "name": "stdout",
     "output_type": "stream",
     "text": [
      "None\n"
     ]
    }
   ],
   "source": [
    "import sqlite3\n",
    "\n",
    "con = sqlite3.connect('test.sqlite')  #讀取\n",
    "cur = con.cursor()  #設指標\n",
    "cur.execute(\"\"\"drop table beauty\"\"\")  #刪除table\n",
    "cur.execute(\"\"\"create table beauty(tags, title, text, date, autor, url varchar(20)); \"\"\")  #建立table\n",
    "\n",
    "con.commit() #執行\n",
    "ret = cur.fetchone() #指標的位置\n",
    "print ret"
   ]
  },
  {
   "cell_type": "code",
   "execution_count": 7,
   "metadata": {
    "collapsed": false
   },
   "outputs": [
    {
     "name": "stdout",
     "output_type": "stream",
     "text": [
      "{'date': u'4/27', 'autor': u'ffwind', 'title': u'\\u5c0d\\u65bc\\u8b3e\\u7f75\\uff0c\\u5e0c\\u671b\\u5927\\u5bb6\\u5c07\\u5fc3\\u6bd4\\u5fc3', 'url': 'https://www.ptt.cc/bbs/Beauty/M.1430099938.A.3B7.html', 'tags': u'[\\u516c\\u544a]'}\n"
     ]
    }
   ],
   "source": [
    "for i in div:\n",
    "    try:\n",
    "        tags = i.select(\".title a\")[0].contents[0].split(' ')[0] \n",
    "        title = i.select(\".title a\")[0].contents[0].split(' ')[1] \n",
    "        date = i.select(\".date\")[0].contents[0].strip()\n",
    "        autor = i.select(\".author\")[0].contents[0]\n",
    "        url = 'https://www.ptt.cc'+i.select(\".title a\")[0]['href']\n",
    "        dic = {\"tags\" : tags,\n",
    "               \"title\" : title,\n",
    "               \"date\" : date,\n",
    "               \"autor\" : autor,\n",
    "               \"url\" : url,\n",
    "            }\n",
    "        dic.append(tags,title)\n",
    "    except:\n",
    "        pass\n",
    "print dic\n",
    "        "
   ]
  },
  {
   "cell_type": "markdown",
   "metadata": {},
   "source": [
    "### 建立一個函式 存放值近sqlite"
   ]
  },
  {
   "cell_type": "code",
   "execution_count": 34,
   "metadata": {
    "collapsed": false
   },
   "outputs": [],
   "source": [
    "def getdetail(tags , title, date, autor, url, cur): #記得要放cur\n",
    "    try:\n",
    "        dic = {\"tags\" : tags,\n",
    "               \"title\" : title,\n",
    "               \"date\" : date,\n",
    "               \"autor\" : autor,\n",
    "               \"url\" : url,\n",
    "            }\n",
    "    except:\n",
    "        pass\n",
    "    print dic.values()\n",
    "    sql = \"insert into beauty({}) values({})\" #sql指令\n",
    "    sql2 = sql.format(','.join(dic.keys()), ','.join(len(dic) * '?')) \n",
    "    cur.execute(sql2, dic.values())"
   ]
  },
  {
   "cell_type": "markdown",
   "metadata": {},
   "source": [
    "### 執行"
   ]
  },
  {
   "cell_type": "code",
   "execution_count": 35,
   "metadata": {
    "collapsed": false
   },
   "outputs": [
    {
     "name": "stdout",
     "output_type": "stream",
     "text": [
      "[u'3/22', u'hide0502', u'FB\\u770b\\u5230\\u7684\\u6591\\u6bd4\\u5e2b\\u5085', 'https://www.ptt.cc/bbs/Beauty/M.1458658320.A.144.html', u'[\\u6b63\\u59b9]']\n",
      "[u'3/22', u'zxcv30253', u'\\u6771\\u5340supreme\\u5916\\u5957\\u5973', 'https://www.ptt.cc/bbs/Beauty/M.1458659535.A.477.html', u'[\\u795e\\u4eba]']\n",
      "[u'3/22', u'sy267180', u'\\u8fa3\\u7a7a\\u59d0x2', 'https://www.ptt.cc/bbs/Beauty/M.1458661691.A.C4B.html', u'[\\u6b63\\u59b9]']\n",
      "[u'3/22', u'onlytako', u'\\u51fa\\u8ce3\\u670b\\u53cb\\u5c0f\\u6e05\\u65b0', 'https://www.ptt.cc/bbs/Beauty/M.1458662304.A.BEA.html', u'[\\u6b63\\u59b9]']\n",
      "[u'3/23', u'x8501991', u'\\u7528\\u9910\\u770b\\u5230\\u7684\\u53ef\\u611b\\u5c0f\\u863f\\u8389', 'https://www.ptt.cc/bbs/Beauty/M.1458662666.A.B96.html', u'[\\u6b63\\u59b9]']\n",
      "[u'3/23', u'mk820904', u'\\u6e05\\u65b0', 'https://www.ptt.cc/bbs/Beauty/M.1458669139.A.45F.html', u'[\\u6b63\\u59b9]']\n",
      "[u'3/23', u'will0720', u'line\\u4e0a\\u9762\\u770b\\u5230\\u7684', 'https://www.ptt.cc/bbs/Beauty/M.1458671508.A.74B.html', u'[\\u795e\\u4eba]']\n",
      "[u'3/23', u'vikingman', u'\\u591c\\u6df1\\u4e86\\uff0c\\u4f46\\u88ab\\u5147\\u72e0\\u7684\\u59b9\\u5687\\u9192\\uff08\\u5df2\\u66f4\\u65b0\\uff09', 'https://www.ptt.cc/bbs/Beauty/M.1458672911.A.0F5.html', u'[\\u6b63\\u59b9]']\n",
      "[u'3/23', u'mezhaowanyu', u'\\u6afb\\u82b1\\u59b9', 'https://www.ptt.cc/bbs/Beauty/M.1458696469.A.35A.html', u'[\\u6b63\\u59b9]']\n",
      "[u'3/23', u'lazack', u'\\u5976\\u7279', 'https://www.ptt.cc/bbs/Beauty/M.1458699515.A.A00.html', u'[\\u6b63\\u59b9]']\n",
      "[u'3/23', u'qscxz', u'\\u822a\\u7a7a\\u7bc7-\\u6027\\u611f\\u751c\\u59d0', 'https://www.ptt.cc/bbs/Beauty/M.1458702345.A.7F9.html', u'[\\u6b63\\u59b9]']\n",
      "[u'3/23', u'huskymilk', u'FB\\u770b\\u5230\\u7684\\u7db2\\u62cd\\u6b63\\u59b9', 'https://www.ptt.cc/bbs/Beauty/M.1458704768.A.E7C.html', u'[\\u6b63\\u59b9]']\n",
      "[u'3/23', u'biztal', u'\\u65b0\\u805e\\u4e0a\\u9762\\u770b\\u5230\\u7684\\u59b9', 'https://www.ptt.cc/bbs/Beauty/M.1458709268.A.39D.html', u'[\\u795e\\u4eba]']\n",
      "[u'3/23', u'somebody1025', u'A4', 'https://www.ptt.cc/bbs/Beauty/M.1458718682.A.FD4.html', u'[\\u6b63\\u59b9]']\n",
      "[u'10/04', u'ffwind', u'\\u4e0d\\u9858\\u4e0a\\u8868\\u7279', 'https://www.ptt.cc/bbs/Beauty/M.1443906121.A.65B.html', u'[\\u516c\\u544a]']\n",
      "[u'2/12', u'GeminiMan', u'\\u8868\\u7279\\u677f\\u677f\\u898f', 'https://www.ptt.cc/bbs/Beauty/M.1423752558.A.849.html', u'[\\u516c\\u544a]']\n",
      "[u'4/27', u'ffwind', u'\\u5c0d\\u65bc\\u8b3e\\u7f75\\uff0c\\u5e0c\\u671b\\u5927\\u5bb6\\u5c07\\u5fc3\\u6bd4\\u5fc3', 'https://www.ptt.cc/bbs/Beauty/M.1430099938.A.3B7.html', u'[\\u516c\\u544a]']\n"
     ]
    }
   ],
   "source": [
    "import requests\n",
    "from bs4 import BeautifulSoup as bs\n",
    "import sqlite3 \n",
    "\n",
    "con = sqlite3.connect('test1.sqlite')\n",
    "cur = con.cursor()\n",
    "cur.execute(\"\"\"drop table beauty\"\"\")\n",
    "cur.execute(\"\"\"create table beauty(tags, title, date, autor, url varchar(20)); \"\"\")\n",
    "con.commit()\n",
    "soup = bs(res.text)\n",
    "div = soup.select('.r-ent')\n",
    "for i in div:\n",
    "    try:\n",
    "        tags = i.select(\".title a\")[0].contents[0].split(' ')[0] \n",
    "        title = i.select(\".title a\")[0].contents[0].split(' ')[1] \n",
    "        date = i.select(\".date\")[0].contents[0].strip()\n",
    "        autor = i.select(\".author\")[0].contents[0]\n",
    "        url = 'https://www.ptt.cc'+i.select(\".title a\")[0]['href']\n",
    "        getdetail(tags , title, date, autor, url, cur)\n",
    "        con.commit()\n",
    "    except:\n",
    "        pass\n",
    "con.close()"
   ]
  },
  {
   "cell_type": "markdown",
   "metadata": {},
   "source": [
    "### 指標查詢"
   ]
  },
  {
   "cell_type": "code",
   "execution_count": 40,
   "metadata": {
    "collapsed": false,
    "scrolled": false
   },
   "outputs": [
    {
     "name": "stdout",
     "output_type": "stream",
     "text": [
      "FB看到的斑比師傅 3/22 hide0502\n",
      "東區supreme外套女\n",
      "辣空姐x2 sy267180\n",
      "出賣朋友小清新 onlytako\n",
      "用餐看到的可愛小蘿莉 x8501991\n",
      "清新 mk820904\n",
      "line上面看到的 will0720\n",
      "夜深了，但被兇狠的妹嚇醒（已更新） vikingman\n",
      "櫻花妹 mezhaowanyu\n",
      "奶特 lazack\n",
      "航空篇-性感甜姐 qscxz\n",
      "FB看到的網拍正妹 huskymilk\n",
      "新聞上面看到的妹 biztal\n",
      "A4 somebody1025\n",
      "不願上表特 ffwind\n",
      "表特板板規 GeminiMan\n",
      "對於謾罵，希望大家將心比心 ffwind\n",
      "----------------------------\n",
      "FB看到的斑比師傅\n",
      "東區supreme外套女\n",
      "辣空姐x2\n",
      "出賣朋友小清新\n",
      "用餐看到的可愛小蘿莉\n",
      "清新\n",
      "line上面看到的\n",
      "夜深了，但被兇狠的妹嚇醒（已更新）\n",
      "櫻花妹\n",
      "奶特\n",
      "航空篇-性感甜姐\n",
      "FB看到的網拍正妹\n",
      "新聞上面看到的妹\n",
      "A4\n",
      "不願上表特\n",
      "表特板板規\n",
      "對於謾罵，希望大家將心比心\n"
     ]
    }
   ],
   "source": [
    "con = sqlite3.connect('test1.sqlite')\n",
    "cur = con.cursor()\n",
    "cur.execute(\"SELECT title, date, autor FROM beauty\") \n",
    "data = cur.fetchone() \n",
    "print data[0],data[1],data[2]\n",
    "data2 = cur.fetchone()\n",
    "print data2[0]\n",
    "\n",
    "data = cur.fetchall() \n",
    "for i in data: \n",
    "    print i[0], i[2] \n",
    "\n",
    "print '----------------------------'\n",
    "cur.execute(\"select * from beauty\")\n",
    "data = cur.fetchall() \n",
    "for i in data:\n",
    "    print i[1]\n",
    "con.close()\n",
    "    "
   ]
  }
 ],
 "metadata": {
  "kernelspec": {
   "display_name": "Python 2",
   "language": "python",
   "name": "python2"
  },
  "language_info": {
   "codemirror_mode": {
    "name": "ipython",
    "version": 2
   },
   "file_extension": ".py",
   "mimetype": "text/x-python",
   "name": "python",
   "nbconvert_exporter": "python",
   "pygments_lexer": "ipython2",
   "version": "2.7.11"
  }
 },
 "nbformat": 4,
 "nbformat_minor": 0
}
