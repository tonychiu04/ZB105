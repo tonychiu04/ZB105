{
 "cells": [
  {
   "cell_type": "markdown",
   "metadata": {},
   "source": [
    "## Euclidean distance 歐幾里得距離 "
   ]
  },
  {
   "cell_type": "markdown",
   "metadata": {},
   "source": [
    "空間中，兩個點的直線距離"
   ]
  },
  {
   "cell_type": "code",
   "execution_count": 11,
   "metadata": {
    "collapsed": true
   },
   "outputs": [],
   "source": [
    "import numpy as np\n",
    "\n",
    "def get_Euclidean(x, y):\n",
    "    mx = np.array(x)\n",
    "    my = np.array(y)\n",
    "    return np.sqrt(np.sum((mx - my) * (mx - my)))"
   ]
  },
  {
   "cell_type": "markdown",
   "metadata": {},
   "source": [
    "## Hamming distance 漢明距離"
   ]
  },
  {
   "cell_type": "markdown",
   "metadata": {},
   "source": [
    "在資訊理論中，兩個等長字符串之間，對應位置的不同字符的個數。換句話說，它就是將一個字符串變換成另外一個字符串所需要替換的字符個數。"
   ]
  },
  {
   "cell_type": "code",
   "execution_count": 15,
   "metadata": {
    "collapsed": false
   },
   "outputs": [],
   "source": [
    "#一般的寫法\n",
    "def get_hamming(x, y):\n",
    "    hamming_number = 0\n",
    "    min_len = min(len(x), len(y))\n",
    "    max_len = max(len(x), len(y))\n",
    "    \n",
    "    for i in range(min_len):\n",
    "        if (x[i] != y[i]):\n",
    "            hamming_number += 1\n",
    "    hamming_number += max_len - min_len\n",
    "    return hamming_number\n",
    "\n",
    "#運用到python特性的寫法\n",
    "def get_Hamming(x, y):\n",
    "    return sum(x != y for x, y in map(None, a, b))"
   ]
  },
  {
   "cell_type": "markdown",
   "metadata": {},
   "source": [
    "## Manhattan distance 曼哈頓距離"
   ]
  },
  {
   "cell_type": "markdown",
   "metadata": {},
   "source": [
    "以標明兩個點上在標準坐標系上的絕對軸距之總和。"
   ]
  },
  {
   "cell_type": "code",
   "execution_count": 41,
   "metadata": {
    "collapsed": true
   },
   "outputs": [],
   "source": [
    "import numpy as np\n",
    "\n",
    "def get_Manhattan(x, y):\n",
    "    mx = np.array(x)\n",
    "    my = np.array(y)\n",
    "    return np.sum(np.abs(mx - my))"
   ]
  },
  {
   "cell_type": "markdown",
   "metadata": {},
   "source": [
    "## Chebyshev distance 切比雪夫距離"
   ]
  },
  {
   "cell_type": "markdown",
   "metadata": {},
   "source": [
    "二個點之間的距離定義為其各座標數值差的最大值。以(x1,y1)和(x2,y2)二點為例，其切比雪夫距離為max(|x2-x1|,|y2-y1|)。"
   ]
  },
  {
   "cell_type": "code",
   "execution_count": 36,
   "metadata": {
    "collapsed": true
   },
   "outputs": [],
   "source": [
    "import numpy as np\n",
    "\n",
    "def get_Chebyshev(x, y):\n",
    "    mx = np.array(x)\n",
    "    my = np.array(y)\n",
    "    return np.abs(mx - my).max()"
   ]
  },
  {
   "cell_type": "markdown",
   "metadata": {},
   "source": [
    "## Cosine Similarity 餘絃相似度"
   ]
  },
  {
   "cell_type": "markdown",
   "metadata": {},
   "source": [
    "幾何中夾角餘弦可用來衡量兩個向量方向的差異，機器學習中借用這一概念來衡量樣本向量之間的差異。"
   ]
  },
  {
   "cell_type": "code",
   "execution_count": 61,
   "metadata": {
    "collapsed": true
   },
   "outputs": [],
   "source": [
    "import numpy as np\n",
    "\n",
    "def get_Cosine(v1, v2):\n",
    "    #(v1 dot v2)/{||v1||*||v2||)\n",
    "    mv1 = np.array(v1)\n",
    "    mv2 = np.array(v2)\n",
    "    #linalg.norm() 可用於計算矩陣的範數\n",
    "    return np.dot(mv1, mv2) / (np.linalg.norm(mv1) * np.linalg.norm(mv2))"
   ]
  },
  {
   "cell_type": "markdown",
   "metadata": {},
   "source": [
    "## Levenshtein distance 萊文斯坦距離"
   ]
  },
  {
   "cell_type": "markdown",
   "metadata": {},
   "source": [
    "指兩個字串之間，由一個轉成另一個所需的最少編輯操作次數。"
   ]
  },
  {
   "cell_type": "code",
   "execution_count": null,
   "metadata": {
    "collapsed": false
   },
   "outputs": [],
   "source": []
  }
 ],
 "metadata": {
  "kernelspec": {
   "display_name": "Python 2",
   "language": "python",
   "name": "python2"
  },
  "language_info": {
   "codemirror_mode": {
    "name": "ipython",
    "version": 2
   },
   "file_extension": ".py",
   "mimetype": "text/x-python",
   "name": "python",
   "nbconvert_exporter": "python",
   "pygments_lexer": "ipython2",
   "version": "2.7.11"
  }
 },
 "nbformat": 4,
 "nbformat_minor": 0
}
