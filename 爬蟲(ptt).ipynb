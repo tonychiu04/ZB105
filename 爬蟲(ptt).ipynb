{
 "cells": [
  {
   "cell_type": "markdown",
   "metadata": {},
   "source": [
    "### 試抓PTT"
   ]
  },
  {
   "cell_type": "code",
   "execution_count": 1,
   "metadata": {
    "collapsed": false
   },
   "outputs": [
    {
     "name": "stdout",
     "output_type": "stream",
     "text": [
      "<Response [200]>\n"
     ]
    }
   ],
   "source": [
    "import requests\n",
    "from bs4 import BeautifulSoup as bs\n",
    "\n",
    "\n",
    "\n",
    "url = 'https://www.ptt.cc/bbs/Beauty/index.html'\n",
    "head = {'User-Agent':'Mozilla/5.0 (Windows NT 10.0; WOW64) AppleWebKit/537.36 (KHTML, like Gecko) Chrome/48.0.2564.116 Safari/537.36'}\n",
    "\n",
    "res = requests.get(url, headers = head)\n",
    "print res"
   ]
  },
  {
   "cell_type": "markdown",
   "metadata": {},
   "source": [
    "### 顯示抓取列表"
   ]
  },
  {
   "cell_type": "code",
   "execution_count": 3,
   "metadata": {
    "collapsed": false
   },
   "outputs": [
    {
     "name": "stdout",
     "output_type": "stream",
     "text": [
      "標籤 : [正妹]\n",
      "標題 : 愛運動的陽光正妹\n",
      "網址 : https://www.ptt.cc/bbs/Beauty/M.1458051553.A.528.html\n",
      "作者 : jolyhsiao\n",
      "時間 :  3/15\n",
      "回應數: 1\n",
      "+++++++++++++++++++++\n",
      "標籤 : [正妹]\n",
      "標題 : 王\n",
      "網址 : https://www.ptt.cc/bbs/Beauty/M.1458051940.A.84B.html\n",
      "作者 : S06182808\n",
      "時間 :  3/15\n",
      "回應數: 1\n",
      "+++++++++++++++++++++\n",
      "標籤 : [公告]\n",
      "標題 : 不願上表特\n",
      "網址 : https://www.ptt.cc/bbs/Beauty/M.1443906121.A.65B.html\n",
      "作者 : ffwind\n",
      "時間 : 10/04\n",
      "回應數: \n",
      "+++++++++++++++++++++\n",
      "標籤 : [公告]\n",
      "標題 : 表特板板規\n",
      "網址 : https://www.ptt.cc/bbs/Beauty/M.1423752558.A.849.html\n",
      "作者 : GeminiMan\n",
      "時間 :  2/12\n",
      "回應數: \n",
      "+++++++++++++++++++++\n",
      "標籤 : [公告]\n",
      "標題 : 對於謾罵，希望大家將心比心\n",
      "網址 : https://www.ptt.cc/bbs/Beauty/M.1430099938.A.3B7.html\n",
      "作者 : ffwind\n",
      "時間 :  4/27\n",
      "回應數: 78\n",
      "+++++++++++++++++++++\n"
     ]
    }
   ],
   "source": [
    "soup = bs(res.text) \n",
    "\n",
    "#抓title和網址\n",
    "for i in soup.select('.r-ent'):\n",
    "    try:\n",
    "        print '標籤 :',i.select('.title')[0].text.split(' ')[0].strip()\n",
    "        print '標題 :',i.select('.title')[0].text.split(' ')[1].strip()\n",
    "        print '網址 :','https://www.ptt.cc'+i.select('.title a')[0]['href'] \n",
    "        print '作者 :',i.select('.author')[0].text \n",
    "        print '時間 :',i.select('.date')[0].text \n",
    "        print '回應數:',i.select('.nrec')[0].text \n",
    "        print '+++++++++++++++++++++'\n",
    "    except:\n",
    "        pass"
   ]
  },
  {
   "cell_type": "markdown",
   "metadata": {},
   "source": [
    "### 顯示抓取上一頁"
   ]
  },
  {
   "cell_type": "code",
   "execution_count": 4,
   "metadata": {
    "collapsed": false
   },
   "outputs": [
    {
     "name": "stdout",
     "output_type": "stream",
     "text": [
      "<a class=\"btn wide\" href=\"/bbs/Beauty/index1.html\">最舊</a>\n",
      "<a class=\"btn wide\" href=\"/bbs/Beauty/index1764.html\">‹ 上頁</a>\n",
      "<a class=\"btn wide disabled\">下頁 ›</a>\n",
      "<a class=\"btn wide\" href=\"/bbs/Beauty/index.html\">最新</a>\n"
     ]
    }
   ],
   "source": [
    "for i in soup.select('.btn.wide'):\n",
    "    print i\n",
    "        \n",
    "    "
   ]
  },
  {
   "cell_type": "code",
   "execution_count": 5,
   "metadata": {
    "collapsed": false
   },
   "outputs": [
    {
     "name": "stdout",
     "output_type": "stream",
     "text": [
      "https://www.ptt.cc/bbs/Beauty/index1764.html\n"
     ]
    }
   ],
   "source": [
    "for index, i in enumerate(soup.select('.btn.wide')) :\n",
    "    try:\n",
    "        if index == 1:\n",
    "            print 'https://www.ptt.cc'+i['href']\n",
    "    except:\n",
    "        pass"
   ]
  },
  {
   "cell_type": "markdown",
   "metadata": {},
   "source": [
    "### 每個列表放入LIST名單"
   ]
  },
  {
   "cell_type": "code",
   "execution_count": 6,
   "metadata": {
    "collapsed": false
   },
   "outputs": [
    {
     "name": "stdout",
     "output_type": "stream",
     "text": [
      "['https://www.ptt.cc/bbs/Beauty/M.1458051553.A.528.html', 'https://www.ptt.cc/bbs/Beauty/M.1458051940.A.84B.html', 'https://www.ptt.cc/bbs/Beauty/M.1443906121.A.65B.html', 'https://www.ptt.cc/bbs/Beauty/M.1423752558.A.849.html', 'https://www.ptt.cc/bbs/Beauty/M.1430099938.A.3B7.html']\n"
     ]
    }
   ],
   "source": [
    "u_list = []\n",
    "\n",
    "for i in soup.select('.r-ent'):\n",
    "    try:\n",
    "        u_list.append('https://www.ptt.cc'+i.select('.title a')[0]['href'])\n",
    "    except:\n",
    "        pass\n",
    "    \n",
    "print u_list"
   ]
  },
  {
   "cell_type": "markdown",
   "metadata": {},
   "source": [
    "### 試抓內文"
   ]
  },
  {
   "cell_type": "code",
   "execution_count": 7,
   "metadata": {
    "collapsed": false
   },
   "outputs": [
    {
     "name": "stdout",
     "output_type": "stream",
     "text": [
      "<Response [200]>\n"
     ]
    }
   ],
   "source": [
    "url1 = 'https://www.ptt.cc/bbs/Beauty/M.1457985155.A.C6B.html'\n",
    "head = {'User-Agent':'Mozilla/5.0 (Windows NT 10.0; WOW64) AppleWebKit/537.36 (KHTML, like Gecko) Chrome/48.0.2564.116 Safari/537.36'}\n",
    "\n",
    "res1 = requests.get(url1, headers = head)\n",
    "print res1"
   ]
  },
  {
   "cell_type": "code",
   "execution_count": 8,
   "metadata": {
    "collapsed": false
   },
   "outputs": [
    {
     "name": "stdout",
     "output_type": "stream",
     "text": [
      "作者Peijunchen (Peijun)看板Beauty標題[正妹] 小周迅時間Tue Mar 15 03:52:32 2016\n",
      "patricia 小美\n",
      "http://i.imgur.com/zXqRmFg.jpg\n",
      "http://i.imgur.com/8kY9obN.jpg\n",
      "http://i.imgur.com/aR49x9D.jpg\n",
      "http://i.imgur.com/NLEKLvc.jpg\n",
      "http://i.imgur.com/Xk8HEGC.jpg\n",
      "http://i.imgur.com/dOZCE7d.jpg\n",
      "http://i.imgur.com/TK6Blju.jpg\n",
      "http://i.imgur.com/eP4A2JN.jpg\n",
      "http://i.imgur.com/I79G90q.jpg\n",
      "\n",
      "--\n",
      "※ 發信站: 批踢踢實業坊(ptt.cc), 來自: 39.10.24.84\n",
      "※ 文章網址: https://www.ptt.cc/bbs/Beauty/M.1457985155.A.C6B.html\n",
      "推 greg2windy: 小美推了 03/15 04:08\n",
      "推 xiangbalao: 推小美 03/15 04:20\n",
      "推 a2156700: 是演員嗎 03/15 08:09\n",
      "推 fighterbing: 這眼神很棒！ 03/15 08:14\n",
      "推 ishigakis: 推 03/15 08:15\n",
      "推 yuese970523: 正！ 03/15 08:22\n",
      "推 kenness1019: 第二張好正～～～ 03/15 08:31\n",
      "推 yayagogo109: 水喔？ 03/15 08:44\n",
      "推 encorek01231: 好看 有種特別的氣質 03/15 09:22\n",
      "推 Dawei1165: 小周迅！！！ 03/15 09:45\n",
      "推 mamajustgo: 好正！！！！！ 03/15 10:48\n",
      "推 gem1030: 美 03/15 11:11\n",
      "推 xd216014: 讚 03/15 11:31\n",
      "推 hunder31: 氣場很足！推 03/15 11:45\n",
      "推 JakeOdorizzi: 跪求名字 03/15 11:52\n",
      "推 money5858: 有氣質 03/15 11:56\n",
      "噓 cevs: 普 03/15 12:02\n",
      "推 Homedoni: 有像有像 03/15 12:02\n",
      "推 wen01101: 過來我身旁 03/15 12:03\n",
      "推 giantwinter: !! 03/15 12:11\n",
      "推 zoeye: 小美必推 03/15 12:13\n",
      "推 RedHome: 喜歡第二張 03/15 12:23\n",
      "推 OwO1103: 她超美 有看她上國光那集本人比照片更美根本女神？ 03/15 12:36\n",
      "推 motoads: 推推 03/15 12:59\n",
      "→ pussycat2009: 可惜非天然 03/15 13:01\n",
      "推 tako0988: 蠻喜歡她！ 03/15 13:11\n",
      "→ mibo168: 正 03/15 13:34\n",
      "推 cp3forlife: 覺得像女版李榮浩 03/15 14:23\n",
      "推 lxxshhann: 推 03/15 14:30\n",
      "推 Echieh: 小美推 03/15 15:03\n",
      "推 tgbhjk13: 推 03/15 15:23\n",
      "推 johnny851216: 推 03/15 15:42\n",
      "推 kevinlee09: 推氣質 03/15 15:50\n",
      "→ poiu1234: 那有大美嗎 03/15 15:52\n",
      "推 s12457845: 推 03/15 16:19\n",
      "推 CYZ2228: 推 03/15 16:57\n",
      "推 hothotdog: 美得冒泡 03/15 17:19\n",
      "→ staria: 超正點 03/15 17:38\n",
      "推 susuqi: 非天然？ 看起來不像啊 03/15 17:45\n",
      "推 eatris257: 超正 03/15 17:52\n",
      "推 tdkblur: 那口罩很生火 哪有? 03/15 19:57\n",
      "推 rokuchan17: 推小美 超有氣質 這才叫表特好嗎 03/15 21:19\n",
      "推 kai6366: 還真的有點像 03/15 22:17\n",
      "\n"
     ]
    }
   ],
   "source": [
    "soup1 = bs(res1.text)\n",
    "\n",
    "for i in soup1.select('#main-content'):\n",
    "    print i.text"
   ]
  },
  {
   "cell_type": "markdown",
   "metadata": {},
   "source": [
    "### 回文內容"
   ]
  },
  {
   "cell_type": "code",
   "execution_count": 9,
   "metadata": {
    "collapsed": false
   },
   "outputs": [
    {
     "name": "stdout",
     "output_type": "stream",
     "text": [
      "推噓   : 推 \n",
      "回文者 : greg2windy\n",
      "回文   : 小美推了\n",
      "時間   : 03/15 04:08\n",
      "----------------------------------\n",
      "推噓   : 推 \n",
      "回文者 : xiangbalao\n",
      "回文   : 推小美\n",
      "時間   : 03/15 04:20\n",
      "----------------------------------\n",
      "推噓   : 推 \n",
      "回文者 : a2156700\n",
      "回文   : 是演員嗎\n",
      "時間   : 03/15 08:09\n",
      "----------------------------------\n",
      "推噓   : 推 \n",
      "回文者 : fighterbing\n",
      "回文   : 這眼神很棒！\n",
      "時間   : 03/15 08:14\n",
      "----------------------------------\n",
      "推噓   : 推 \n",
      "回文者 : ishigakis\n",
      "回文   : 推\n",
      "時間   : 03/15 08:15\n",
      "----------------------------------\n",
      "推噓   : 推 \n",
      "回文者 : yuese970523\n",
      "回文   : 正！\n",
      "時間   : 03/15 08:22\n",
      "----------------------------------\n",
      "推噓   : 推 \n",
      "回文者 : kenness1019\n",
      "回文   : 第二張好正～～～\n",
      "時間   : 03/15 08:31\n",
      "----------------------------------\n",
      "推噓   : 推 \n",
      "回文者 : yayagogo109\n",
      "回文   : 水喔？\n",
      "時間   : 03/15 08:44\n",
      "----------------------------------\n",
      "推噓   : 推 \n",
      "回文者 : encorek01231\n",
      "回文   : 好看 有種特別的氣質\n",
      "時間   : 03/15 09:22\n",
      "----------------------------------\n",
      "推噓   : 推 \n",
      "回文者 : Dawei1165\n",
      "回文   : 小周迅！！！\n",
      "時間   : 03/15 09:45\n",
      "----------------------------------\n",
      "推噓   : 推 \n",
      "回文者 : mamajustgo\n",
      "回文   : 好正！！！！！\n",
      "時間   : 03/15 10:48\n",
      "----------------------------------\n",
      "推噓   : 推 \n",
      "回文者 : gem1030\n",
      "回文   : 美\n",
      "時間   : 03/15 11:11\n",
      "----------------------------------\n",
      "推噓   : 推 \n",
      "回文者 : xd216014\n",
      "回文   : 讚\n",
      "時間   : 03/15 11:31\n",
      "----------------------------------\n",
      "推噓   : 推 \n",
      "回文者 : hunder31\n",
      "回文   : 氣場很足！推\n",
      "時間   : 03/15 11:45\n",
      "----------------------------------\n",
      "推噓   : 推 \n",
      "回文者 : JakeOdorizzi\n",
      "回文   : 跪求名字\n",
      "時間   : 03/15 11:52\n",
      "----------------------------------\n",
      "推噓   : 推 \n",
      "回文者 : money5858\n",
      "回文   : 有氣質\n",
      "時間   : 03/15 11:56\n",
      "----------------------------------\n",
      "推噓   : 噓 \n",
      "回文者 : cevs\n",
      "回文   : 普\n",
      "時間   : 03/15 12:02\n",
      "----------------------------------\n",
      "推噓   : 推 \n",
      "回文者 : Homedoni\n",
      "回文   : 有像有像\n",
      "時間   : 03/15 12:02\n",
      "----------------------------------\n",
      "推噓   : 推 \n",
      "回文者 : wen01101\n",
      "回文   : 過來我身旁\n",
      "時間   : 03/15 12:03\n",
      "----------------------------------\n",
      "推噓   : 推 \n",
      "回文者 : giantwinter\n",
      "回文   : !!\n",
      "時間   : 03/15 12:11\n",
      "----------------------------------\n",
      "推噓   : 推 \n",
      "回文者 : zoeye\n",
      "回文   : 小美必推\n",
      "時間   : 03/15 12:13\n",
      "----------------------------------\n",
      "推噓   : 推 \n",
      "回文者 : RedHome\n",
      "回文   : 喜歡第二張\n",
      "時間   : 03/15 12:23\n",
      "----------------------------------\n",
      "推噓   : 推 \n",
      "回文者 : OwO1103\n",
      "回文   : 她超美 有看她上國光那集本人比照片更美根本女神？\n",
      "時間   : 03/15 12:36\n",
      "----------------------------------\n",
      "推噓   : 推 \n",
      "回文者 : motoads\n",
      "回文   : 推推\n",
      "時間   : 03/15 12:59\n",
      "----------------------------------\n",
      "推噓   : → \n",
      "回文者 : pussycat2009\n",
      "回文   : 可惜非天然\n",
      "時間   : 03/15 13:01\n",
      "----------------------------------\n",
      "推噓   : 推 \n",
      "回文者 : tako0988\n",
      "回文   : 蠻喜歡她！\n",
      "時間   : 03/15 13:11\n",
      "----------------------------------\n",
      "推噓   : → \n",
      "回文者 : mibo168\n",
      "回文   : 正\n",
      "時間   : 03/15 13:34\n",
      "----------------------------------\n",
      "推噓   : 推 \n",
      "回文者 : cp3forlife\n",
      "回文   : 覺得像女版李榮浩\n",
      "時間   : 03/15 14:23\n",
      "----------------------------------\n",
      "推噓   : 推 \n",
      "回文者 : lxxshhann\n",
      "回文   : 推\n",
      "時間   : 03/15 14:30\n",
      "----------------------------------\n",
      "推噓   : 推 \n",
      "回文者 : Echieh\n",
      "回文   : 小美推\n",
      "時間   : 03/15 15:03\n",
      "----------------------------------\n",
      "推噓   : 推 \n",
      "回文者 : tgbhjk13\n",
      "回文   : 推\n",
      "時間   : 03/15 15:23\n",
      "----------------------------------\n",
      "推噓   : 推 \n",
      "回文者 : johnny851216\n",
      "回文   : 推\n",
      "時間   : 03/15 15:42\n",
      "----------------------------------\n",
      "推噓   : 推 \n",
      "回文者 : kevinlee09\n",
      "回文   : 推氣質\n",
      "時間   : 03/15 15:50\n",
      "----------------------------------\n",
      "推噓   : → \n",
      "回文者 : poiu1234\n",
      "回文   : 那有大美嗎\n",
      "時間   : 03/15 15:52\n",
      "----------------------------------\n",
      "推噓   : 推 \n",
      "回文者 : s12457845\n",
      "回文   : 推\n",
      "時間   : 03/15 16:19\n",
      "----------------------------------\n",
      "推噓   : 推 \n",
      "回文者 : CYZ2228\n",
      "回文   : 推\n",
      "時間   : 03/15 16:57\n",
      "----------------------------------\n",
      "推噓   : 推 \n",
      "回文者 : hothotdog\n",
      "回文   : 美得冒泡\n",
      "時間   : 03/15 17:19\n",
      "----------------------------------\n",
      "推噓   : → \n",
      "回文者 : staria\n",
      "回文   : 超正點\n",
      "時間   : 03/15 17:38\n",
      "----------------------------------\n",
      "推噓   : 推 \n",
      "回文者 : susuqi\n",
      "回文   : 非天然？ 看起來不像啊\n",
      "時間   : 03/15 17:45\n",
      "----------------------------------\n",
      "推噓   : 推 \n",
      "回文者 : eatris257\n",
      "回文   : 超正\n",
      "時間   : 03/15 17:52\n",
      "----------------------------------\n",
      "推噓   : 推 \n",
      "回文者 : tdkblur\n",
      "回文   : 那口罩很生火 哪有?\n",
      "時間   : 03/15 19:57\n",
      "----------------------------------\n",
      "推噓   : 推 \n",
      "回文者 : rokuchan17\n",
      "回文   : 推小美 超有氣質 這才叫表特好嗎\n",
      "時間   : 03/15 21:19\n",
      "----------------------------------\n",
      "推噓   : 推 \n",
      "回文者 : kai6366\n",
      "回文   : 還真的有點像\n",
      "時間   : 03/15 22:17\n",
      "----------------------------------\n"
     ]
    }
   ],
   "source": [
    "for i in soup1.select('.push'):\n",
    "    print '推噓   :',i.select('.hl.push-tag')[0].text\n",
    "    print '回文者 :',i.select('.f3.hl.push-userid')[0].text\n",
    "    print '回文   :',i.select('.f3.push-content')[0].text[1:].strip()\n",
    "    print '時間   :',i.select('.push-ipdatetime')[0].text.strip()\n",
    "    print '----------------------------------'"
   ]
  },
  {
   "cell_type": "markdown",
   "metadata": {},
   "source": [
    "### 回應數"
   ]
  },
  {
   "cell_type": "code",
   "execution_count": 10,
   "metadata": {
    "collapsed": false
   },
   "outputs": [
    {
     "name": "stdout",
     "output_type": "stream",
     "text": [
      "推文 : 38\n",
      "噓文 : 1\n",
      "沒意見 : 4\n",
      "總回應數 : 43\n"
     ]
    }
   ],
   "source": [
    "h_count = 0 #噓\n",
    "p_count = 0 #推\n",
    "t_count = 0 #總\n",
    "for i in soup1.select('.push'):\n",
    "    t_count = t_count + 1\n",
    "    if i.select('.hl.push-tag')[0].text.strip().encode('utf-8') == '噓':\n",
    "        h_count = h_count + 1\n",
    "    elif i.select('.hl.push-tag')[0].text.strip().encode('utf-8') == '推':\n",
    "        p_count = p_count + 1\n",
    "print '推文 :', p_count\n",
    "print '噓文 :', h_count\n",
    "print '沒意見 :', t_count-(h_count+p_count)\n",
    "print '總回應數 :', t_count\n"
   ]
  }
 ],
 "metadata": {
  "kernelspec": {
   "display_name": "Python 2",
   "language": "python",
   "name": "python2"
  },
  "language_info": {
   "codemirror_mode": {
    "name": "ipython",
    "version": 2
   },
   "file_extension": ".py",
   "mimetype": "text/x-python",
   "name": "python",
   "nbconvert_exporter": "python",
   "pygments_lexer": "ipython2",
   "version": "2.7.11"
  }
 },
 "nbformat": 4,
 "nbformat_minor": 0
}
