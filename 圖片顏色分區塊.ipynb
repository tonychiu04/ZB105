{
 "cells": [
  {
   "cell_type": "markdown",
   "metadata": {},
   "source": [
    "## 畫出所有的顏色排列組合"
   ]
  },
  {
   "cell_type": "code",
   "execution_count": 2,
   "metadata": {
    "collapsed": false
   },
   "outputs": [
    {
     "data": {
      "image/png": "[encoded data removed]",
      "text/plain": [
       "<matplotlib.figure.Figure at 0x80ebeb8>"
      ]
     },
     "metadata": {},
     "output_type": "display_data"
    }
   ],
   "source": [
    "%matplotlib inline\n",
    "import PIL\n",
    "from PIL import Image\n",
    "from matplotlib import pyplot as plt\n",
    "\n",
    "\n",
    "#讀取每個pixel的color值\n",
    "im = Image.open('010.jpg')  \n",
    "w, h = im.size  \n",
    "colors = im.getcolors(w*h)   #出來的值是 (數量，(R,G,B))\n",
    "\n",
    "\n",
    "#轉hex碼\n",
    "def hexencode(rgb):\n",
    "    r=rgb[0]\n",
    "    g=rgb[1]\n",
    "    b=rgb[2]\n",
    "    return '#%02x%02x%02x' % (r,g,b)\n",
    "\n",
    "#畫圖----沒有照顏色排列\n",
    "for idx, c in enumerate(colors):\n",
    "    plt.bar(idx, c[0], color=hexencode(c[1]))\n",
    "\n",
    "plt.show()"
   ]
  },
  {
   "cell_type": "markdown",
   "metadata": {},
   "source": [
    "## 將顏色分成64種"
   ]
  },
  {
   "cell_type": "code",
   "execution_count": 4,
   "metadata": {
    "collapsed": false
   },
   "outputs": [
    {
     "name": "stdout",
     "output_type": "stream",
     "text": [
      "[[[27531  1812   322     0]\n",
      "  [  450  2126   312     0]\n",
      "  [    0  1812     0     0]\n",
      "  [    0     0     0     0]]\n",
      "\n",
      " [[11308   710     0     0]\n",
      "  [ 3362 10922  1697     0]\n",
      "  [    3  8219  2491     0]\n",
      "  [    0     0     0     0]]\n",
      "\n",
      " [[ 8261   242     0     0]\n",
      "  [ 2450  3897  2158     0]\n",
      "  [  206  4527 25833 11371]\n",
      "  [    1    11   433  3988]]\n",
      "\n",
      " [[  296    22     0     0]\n",
      "  [   70    23     0     0]\n",
      "  [  263  6371 12310   243]\n",
      "  [    0  1246   263  2990]]]\n"
     ]
    }
   ],
   "source": [
    "%matplotlib inline\n",
    "import PIL\n",
    "from PIL import Image\n",
    "from matplotlib import pyplot as plt\n",
    "import numpy as np\n",
    "\n",
    "\n",
    "#顏色降維\n",
    "im = Image.open('010.jpg')  \n",
    "w, h = im.size  \n",
    "colors = im.getcolors(w*h)\n",
    "\n",
    "\n",
    "rgb_list = np.zeros((4,4,4), dtype=int)\n",
    "\n",
    "for i in colors:\n",
    "    count = i[0]\n",
    "    r,g,b = i[1][0]/64, i[1][1]/64, i[1][2]/64\n",
    "    for rc in range(4):\n",
    "        for gc in range(4):\n",
    "            for bc in range(4):\n",
    "                if r == rc and g == gc and b == bc:\n",
    "                    rgb_list[rc][gc][bc] += count\n",
    "    ###要加條件，黑、白、灰\n",
    "print rgb_list"
   ]
  },
  {
   "cell_type": "markdown",
   "metadata": {},
   "source": [
    "## 降維、算顏色、畫直方圖"
   ]
  },
  {
   "cell_type": "code",
   "execution_count": 5,
   "metadata": {
    "collapsed": false
   },
   "outputs": [
    {
     "data": {
      "image/png": "[encoded data removed]",
      "text/plain": [
       "<matplotlib.figure.Figure at 0xb7f54dd8>"
      ]
     },
     "metadata": {},
     "output_type": "display_data"
    }
   ],
   "source": [
    "v_rgb_list = rgb_list.reshape(1,64).squeeze()  #降維  三維->一維\n",
    "r, g, b = 0, 0, 0\n",
    "\n",
    "for idx, c in enumerate(v_rgb_list):\n",
    "    bar_c = [(r*64)+30, (g*64)+30, (b*64)+30] #這裡顏色比例還要再調整\n",
    "    plt.bar(idx, c, color=hexencode(bar_c)) \n",
    "    \n",
    "    #給定條件式，利用餘數來分辨RGB\n",
    "    b += 1\n",
    "    if (idx+1) % 4 == 0:\n",
    "        b = 0\n",
    "        g += 1\n",
    "    if (idx+1) % 16 == 0:\n",
    "        g = 0\n",
    "        r += 1\n",
    "plt.show()"
   ]
  }
 ],
 "metadata": {
  "kernelspec": {
   "display_name": "Python 2",
   "language": "python",
   "name": "python2"
  },
  "language_info": {
   "codemirror_mode": {
    "name": "ipython",
    "version": 2
   },
   "file_extension": ".py",
   "mimetype": "text/x-python",
   "name": "python",
   "nbconvert_exporter": "python",
   "pygments_lexer": "ipython2",
   "version": "2.7.11"
  }
 },
 "nbformat": 4,
 "nbformat_minor": 0
}
