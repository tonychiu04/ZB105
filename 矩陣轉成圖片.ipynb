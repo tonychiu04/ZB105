{
 "cells": [
  {
   "cell_type": "code",
   "execution_count": 1,
   "metadata": {
    "collapsed": false
   },
   "outputs": [
    {
     "data": {
      "image/png": "[encoded data removed]",
      "text/plain": [
       "<matplotlib.figure.Figure at 0x6d0eac8>"
      ]
     },
     "metadata": {},
     "output_type": "display_data"
    }
   ],
   "source": [
    "%matplotlib inline\n",
    "from PIL import Image\n",
    "import numpy as np\n",
    "import matplotlib.pyplot as plt\n",
    "\n",
    "w, h = 4,4 \n",
    "data = np.zeros((h, w, 3), dtype=np.uint8) #畫空的三維矩陣，型態給uint8\n",
    "\n",
    "#改顏色\n",
    "data[:2, :2] = [0, 80, 255]\n",
    "data[:2, 2:] = [0, 80, 191]\n",
    "data[2:, :2] = [0, 80, 80]\n",
    "data[2:, 2:] = [0, 80, 30]\n",
    "\n",
    "\n",
    "\n",
    "\n",
    "'''.png是無損，.jpg...之類的都有壓縮過\n",
    "    所以你再讀.jpg的時候會發現 \n",
    "    RGB顏色有些微跑掉'''\n",
    "#轉成Image屬性，並匯出\n",
    "img = Image.fromarray(data, 'RGB')\n",
    "plt.imshow(img)\n",
    "plt.axis('off')\n",
    "plt.show()\n",
    "img.save('my.png')"
   ]
  },
  {
   "cell_type": "code",
   "execution_count": 12,
   "metadata": {
    "collapsed": false
   },
   "outputs": [
    {
     "name": "stdout",
     "output_type": "stream",
     "text": [
      "[255 153  32]\n",
      "[ 15 123 100]\n",
      "[ 15 123 100]\n",
      "[255 153  32]\n",
      "[255 153  32]\n"
     ]
    }
   ],
   "source": [
    "print data[0][1]\n",
    "print data[0][2]\n",
    "print data[0][3]\n",
    "print data[0][0]\n",
    "print data[1][0]"
   ]
  },
  {
   "cell_type": "code",
   "execution_count": 21,
   "metadata": {
    "collapsed": false
   },
   "outputs": [
    {
     "data": {
      "image/png": "[encoded data removed]",
      "text/plain": [
       "<matplotlib.figure.Figure at 0x7127e10>"
      ]
     },
     "metadata": {},
     "output_type": "display_data"
    }
   ],
   "source": [
    "%matplotlib inline\n",
    "from PIL import Image\n",
    "import numpy as np\n",
    "import matplotlib.pyplot as plt\n",
    "\n",
    "\n",
    "\n",
    "a = np.zeros((32,32,3), 'uint8')   #建造一個空的三圍矩陣，大小為32*32*3，數據類型為uint8\n",
    "a[:,:, 0] = 100             #r的矩陣\n",
    "a[20:30,:, 1] = 100         #g的矩陣\n",
    "a[10:20,:, 1] = 0           #g的矩陣\n",
    "a[:,:, 2] = 100             #b的矩陣\n",
    "img = Image.fromarray(a)    #用image讀矩陣\n",
    "plt.imshow(img)\n",
    "plt.axis('off')\n",
    "plt.show()\n"
   ]
  }
 ],
 "metadata": {
  "kernelspec": {
   "display_name": "Python 2",
   "language": "python",
   "name": "python2"
  },
  "language_info": {
   "codemirror_mode": {
    "name": "ipython",
    "version": 2
   },
   "file_extension": ".py",
   "mimetype": "text/x-python",
   "name": "python",
   "nbconvert_exporter": "python",
   "pygments_lexer": "ipython2",
   "version": "2.7.11"
  }
 },
 "nbformat": 4,
 "nbformat_minor": 0
}
