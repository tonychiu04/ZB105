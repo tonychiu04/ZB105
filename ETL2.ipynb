{
 "cells": [
  {
   "cell_type": "markdown",
   "metadata": {},
   "source": [
    "### MIT tech"
   ]
  },
  {
   "cell_type": "code",
   "execution_count": 6,
   "metadata": {
    "collapsed": true
   },
   "outputs": [
    {
     "name": "stdout",
     "output_type": "stream",
     "text": [
      "[<h2 class=\"group-tz__title\">Once More Unto the Breach: What It Takes to Defeat Cyberattackers</h2>, <h2 class=\"group-tz__title\">Crisis Communication After an Attack</h2>, <h2 class=\"group-tz__title\">Larry Page Punts on a Chance to Explain Alphabet\\xe2\\x80\\x99s Woes</h2>, <h2 class=\"group-tz__title\">Elon Musk May Go to Mars, but Would You?</h2>, <h2 class=\"group-tz__title\">Here\\xe2\\x80\\x99s How TV Might Change if the Cable Box Goes Away</h2>, <h2 class=\"group-tz__title\">Do We Deserve Total Digital Privacy?</h2>, <h2 class=\"group-tz__title\">The Curious Link Between the Fly-By Anomaly and the \\xe2\\x80\\x9cImpossible\\xe2\\x80\\x9d EmDrive Thruster</h2>, <h2 class=\"group-tz__title\">New 3-D Printing Technique Makes Ceramic Parts</h2>]\n",
      "Once More Unto the Breach: What It Takes to Defeat Cyberattackers\n",
      "Crisis Communication After an Attack\n",
      "Larry Page Punts on a Chance to Explain Alphabetâs Woes\n",
      "Elon Musk May Go to Mars, but Would You?\n",
      "Hereâs How TV Might Change if the Cable Box Goes Away\n",
      "Do We Deserve Total Digital Privacy?\n",
      "The Curious Link Between the Fly-By Anomaly and the âImpossibleâ EmDrive Thruster\n",
      "New 3-D Printing Technique Makes Ceramic Parts\n"
     ]
    }
   ],
   "source": [
    "import requests\n",
    "from bs4 import BeautifulSoup\n",
    "\n",
    "url = 'https://www.technologyreview.com/'\n",
    "res = requests.get(url)\n",
    "#print res.text\n",
    "\n",
    "soup = BeautifulSoup(res.text)\n",
    "h2 = soup.select('.group-tz__title')\n",
    "print h2\n",
    "\n",
    "for h in h2:\n",
    "    print h.text"
   ]
  },
  {
   "cell_type": "markdown",
   "metadata": {},
   "source": [
    "### 長榮航空 價格"
   ]
  },
  {
   "cell_type": "code",
   "execution_count": 8,
   "metadata": {
    "collapsed": false
   },
   "outputs": [],
   "source": [
    "url = 'https://book.evaair.com/EVAOnline/dyn/air/booking/availability?ENCT=1&ENC=5D60B55BA48EF26237ACEC3707041E81DBC8A0C96A77B34FB9481388D22F1A8E3934F3B32A4DE492B3B4CA706845CA23&ENC_TIME=20160218104143'\n",
    "playload = {\n",
    "    'LANGUAGE':'TW',\n",
    "    'TRIP_TYPE':'R',\n",
    "    'SITE':'CBHGCBHG',\n",
    "    'COMMERCIAL_FARE_FAMILY_1':'NEWBIZ',\n",
    "    'IS_FLEXIBLE':'TRUE',\n",
    "    'B_LOCATION_1':'TPE',\n",
    "    'E_LOCATION_1':'YVR',\n",
    "    'B_DATE_1':'201602180000',\n",
    "    'B_DATE_2':'201602180000',\n",
    "    'NB_ADT':'1',\n",
    "    'NB_CHD':'0',\n",
    "    'NB_INF':'0',\n",
    "    'NB_STU':'0',\n",
    "    'WDS_BR_PORTAL':'AIBS',\n",
    "    'LIST_CORPORATE_NUMBER_1_1':'',\n",
    "    'WDS_CORPORATE_NAME':'',\n",
    "    'WDS_ACCOUNT_NUMBER':''\n",
    "}\n",
    "reseve = requests.post(url,data=playload)\n",
    "soupeve =  BeautifulSoup(reseve.text)\n",
    "price = soupeve.select('.price')\n",
    "for p in price:\n",
    "    print p.text\n"
   ]
  },
  {
   "cell_type": "markdown",
   "metadata": {},
   "source": [
    "### 政府公開招標資料"
   ]
  },
  {
   "cell_type": "code",
   "execution_count": 9,
   "metadata": {
    "collapsed": false
   },
   "outputs": [],
   "source": [
    "import requests\n",
    "from bs4 import BeautifulSoup\n",
    "url = 'http://web.pcc.gov.tw/tps/pss/tender.do?searchMode=common&searchType=basic'\n",
    "playload = {\n",
    "    'method':'search',\n",
    "    'searchMethod':'true',\n",
    "    'tenderUpdate':'',\n",
    "    'searchTarget':'',\n",
    "    'orgName':'',\n",
    "    'orgId':'',\n",
    "    'hid_1':'1',\n",
    "    'tenderName':'',\n",
    "    'tenderId':'',\n",
    "    'tenderType':'tenderDeclaration',\n",
    "    'tenderWay':'1,2,3,4,5,6,7,10,12',\n",
    "    'tenderDateRadio':'on',\n",
    "    'tenderStartDateStr':'105/02/12',\n",
    "    'tenderEndDateStr':'105/02/18',\n",
    "    'tenderStartDate':'105/02/12',\n",
    "    'tenderEndDate':'105/02/18',\n",
    "    'isSpdt':'N',\n",
    "    'proctrgCate':'3',\n",
    "    'radProctrgCate':'3',\n",
    "    'btnQuery':'查詢',\n",
    "    'hadUpdated':''\n",
    "}\n",
    "res = requests.post(url, data = playload)\n",
    "soup = BeautifulSoup(res.text)\n",
    "#print soup\n"
   ]
  },
  {
   "cell_type": "code",
   "execution_count": 10,
   "metadata": {
    "collapsed": false
   },
   "outputs": [],
   "source": [
    "#先找到 div包住了所有欄位,所以我們要取div裡的東西\n",
    "div = soup.select('#print_area')[0]\n",
    "\n",
    "#接者從div裡找到tr(整行),第一行和最後一行不要\n",
    "trs = div.select('tr')[1:-1]\n",
    "\n",
    "urlss=[]\n",
    "for tr in trs:\n",
    "    a = 'http://web.pcc.gov.tw/tps/' + tr.select('a')[0]['href'][3:]\n",
    "    urlss.append(a)\n",
    "#print urlss"
   ]
  },
  {
   "cell_type": "code",
   "execution_count": 11,
   "metadata": {
    "collapsed": false
   },
   "outputs": [
    {
     "name": "stdout",
     "output_type": "stream",
     "text": [
      "105C029\n"
     ]
    }
   ],
   "source": [
    "#print urlss\n",
    "ress = requests.get(urlss[0])\n",
    "soup2 = BeautifulSoup(ress.text)\n",
    "div2 = soup2.select('#print_area')[0]\n",
    "\n",
    "trs2 = div2.select('.newstop')\n",
    "\n",
    "print trs2[8].text.strip()\n",
    "\n",
    "\n",
    "#for i in urlss:\n",
    "#    restemp = requests.get(i)\n",
    "#    souptemp = BeautifulSoup(restemp.text)\n",
    "#    divtemp = souptemp.select('#print_area')[0]\n",
    "#    trstemp = divtemp.select('.newstop')\n",
    "#    print '標案名稱 : '+trstemp[9].text.encode('utf-8').strip()\n",
    "#    print '單位 : '+trstemp[1].text.encode('utf-8').strip()\n",
    "#    print '-------------------------------------------------'"
   ]
  },
  {
   "cell_type": "markdown",
   "metadata": {},
   "source": [
    "### 存入檔案"
   ]
  },
  {
   "cell_type": "code",
   "execution_count": 20,
   "metadata": {
    "collapsed": false
   },
   "outputs": [],
   "source": [
    "dib_url = 'http://web.pcc.gov.tw/tps/tpam/main/tps/tpam/tpam_tender_detail.do?searchMode=common&scope=F&primaryKey=51811143'\n",
    "res_bid = requests.get(dib_url)\n",
    "soup = BeautifulSoup(res_bid.text)\n",
    "\n",
    "\n",
    "to_fileundone = soup.select('#print_area')[0]\n",
    "trstemp = to_fileundone.select('.newstop')\n",
    "\n",
    "\n",
    "\n",
    "file_id = trs2[8].text.encode('utf-8').strip()\n",
    "text1 ='標案名稱 : '+trstemp[9].text.encode('utf-8').strip() +'\\n'  '單位 : '+trstemp[1].text.encode('utf-8').strip()\n",
    "\n",
    "f = open('C:\\Users\\CherryWu\\TEST\\{}.txt'.format(file_id),'w')\n",
    "#f.write(to_file.prettify().encode('utf-8'))\n",
    "f.write('{}'.format(text1))\n",
    "f.close()"
   ]
  },
  {
   "cell_type": "markdown",
   "metadata": {},
   "source": [
    "### 存入標案名稱和單位練習"
   ]
  },
  {
   "cell_type": "code",
   "execution_count": 23,
   "metadata": {
    "collapsed": false
   },
   "outputs": [
    {
     "name": "stdout",
     "output_type": "stream",
     "text": [
      "存入 1050218 檔案\n",
      "執行中.....\n",
      "成功.....\n",
      "存入 1050216 檔案\n",
      "執行中.....\n",
      "成功.....\n",
      "存入 1050210 檔案\n",
      "執行中.....\n",
      "成功.....\n",
      "存入 105006 檔案\n",
      "執行中.....\n",
      "成功.....\n"
     ]
    }
   ],
   "source": [
    "count = 1\n",
    "for i in urlss:\n",
    "    restemp = requests.get(i)\n",
    "    souptemp = BeautifulSoup(restemp.text)\n",
    "    divtemp = souptemp.select('#print_area')[0]\n",
    "    trstemp = divtemp.select('.newstop')\n",
    "    print '存入 '+ trstemp[8].text.encode('utf-8').strip() + ' 檔案'\n",
    "    print '執行中.....'\n",
    "    file_id = trstemp[8].text.encode('utf-8').strip()\n",
    "    text1 ='標案名稱 : '+trstemp[9].text.encode('utf-8').strip() +'\\n'  '單位 : '+trstemp[1].text.encode('utf-8').strip()\n",
    "    f = open('C:\\Users\\CherryWu\\TEST\\{}.txt'.format(file_id),'w')\n",
    "    f.write('{}'.format(text1))\n",
    "    f.close()\n",
    "    print '成功.....'\n",
    "    count += 1\n",
    "    #測試\n",
    "    if count == 5:\n",
    "        break"
   ]
  },
  {
   "cell_type": "markdown",
   "metadata": {},
   "source": [
    "### 作業--存取網站"
   ]
  },
  {
   "cell_type": "code",
   "execution_count": 22,
   "metadata": {
    "collapsed": false
   },
   "outputs": [
    {
     "name": "stdout",
     "output_type": "stream",
     "text": [
      "51813578開始執行\n",
      "1  /  1580\n",
      "51813576開始執行\n",
      "2  /  1580\n",
      "51813575開始執行\n",
      "3  /  1580\n",
      "51813569開始執行\n",
      "4  /  1580\n",
      "51813559開始執行\n",
      "5  /  1580\n",
      "done\n"
     ]
    }
   ],
   "source": [
    "front_page = \"http://web.pcc.gov.tw/tps/pss/tender.do?searchMode=common&searchType=basic\"\n",
    "playload = {\n",
    "'method':'search',\n",
    "'searchMethod':'true',\n",
    "'tenderUpdate':'',\n",
    "'searchTarget':'',\n",
    "'orgName':'',\n",
    "'orgId':'',\n",
    "'hid_1':'1',\n",
    "'tenderName':'',\n",
    "'tenderId':'',\n",
    "'tenderType':'tenderDeclaration',\n",
    "'tenderWay':'1,2,3,4,5,6,7,10,12',\n",
    "'tenderDateRadio':'on',\n",
    "'tenderStartDateStr':'105/02/12',\n",
    "'tenderEndDateStr':'105/02/18',\n",
    "'tenderStartDate':'105/02/12',\n",
    "'tenderEndDate':'105/02/18',\n",
    "'isSpdt':'N',\n",
    "'proctrgCate':'3',\n",
    "'radProctrgCate':'3',\n",
    "'btnQuery':'查詢',\n",
    "'hadUpdated':''\n",
    "}\n",
    "rs = requests.session()\n",
    "rs.post(front_page,data=playload)\n",
    "\n",
    "url = 'http://web.pcc.gov.tw/tps/pss/tender.do?searchMode=common&searchType=basic&method=search&isSpdt=&pageIndex=3'\n",
    "res = rs.get(url)\n",
    "soup = BeautifulSoup(res.text)\n",
    "#print soup\n",
    "div = soup.select('#print_area')[0]\n",
    "#print div\n",
    "trs = div.select('tr')[1:-1]\n",
    "\n",
    "\n",
    "##抓取url 放進list裡\n",
    "urlss=[]\n",
    "for tr in trs:\n",
    "    a = 'http://web.pcc.gov.tw/tps/' + tr.select('a')[0]['href'][3:]\n",
    "    urlss.append(a)\n",
    "#print urlss\n",
    "\n",
    "\n",
    "##計算總數目\n",
    "num = soup.select('.T11b')[0].text\n",
    "count = 0\n",
    "\n",
    "##寫入\n",
    "for i in urlss:\n",
    "    restemp = requests.get(i)\n",
    "    souptemp = BeautifulSoup(restemp.text)\n",
    "    pages = souptemp.select('#print_area')[0]\n",
    "    file_id = i.split('primaryKey=')[1]\n",
    "    print file_id + '開始執行'\n",
    "    f = open('C:\\Users\\CherryWu\\TEST\\{}.txt'.format(file_id),'w')\n",
    "    f.write(pages.prettify().encode('utf-8'))\n",
    "    f.close()\n",
    "    count = count + 1\n",
    "    print '{}  /  {}'.format(count,num)\n",
    "    \n",
    "    #測試\n",
    "    if count == 5:\n",
    "        break\n",
    "print 'done'\n",
    "\n",
    "\n",
    "\n",
    "\n"
   ]
  }
 ],
 "metadata": {
  "kernelspec": {
   "display_name": "Python 2",
   "language": "python",
   "name": "python2"
  },
  "language_info": {
   "codemirror_mode": {
    "name": "ipython",
    "version": 2
   },
   "file_extension": ".py",
   "mimetype": "text/x-python",
   "name": "python",
   "nbconvert_exporter": "python",
   "pygments_lexer": "ipython2",
   "version": "2.7.11"
  }
 },
 "nbformat": 4,
 "nbformat_minor": 0
}
