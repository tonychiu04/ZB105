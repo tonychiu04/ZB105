{
 "cells": [
  {
   "cell_type": "code",
   "execution_count": 166,
   "metadata": {
    "collapsed": false
   },
   "outputs": [
    {
     "name": "stdout",
     "output_type": "stream",
     "text": [
      "<Response [200]>\n"
     ]
    }
   ],
   "source": [
    "import requests\n",
    "import shutil\n",
    "\n",
    "head = {'User-Agent':'Mozilla/5.0 (Windows NT 6.1; WOW64) AppleWebKit/537.36 (KHTML, like Gecko) Chrome/48.0.2564.116 Safari/537.36'}\n",
    "url = 'https://www.ptt.cc/bbs/Beauty/index.html'\n",
    "\n",
    "res = requests.get(url, headers=head,stream=True)\n",
    "\n",
    "print res"
   ]
  },
  {
   "cell_type": "code",
   "execution_count": 167,
   "metadata": {
    "collapsed": false
   },
   "outputs": [
    {
     "name": "stdout",
     "output_type": "stream",
     "text": [
      "[神人],Azar小帥弟,3/24,qaaq0008,https://www.ptt.cc/bbs/Beauty/M.1458813542.A.7EB.html\n",
      "[正妹],Mary,3/24,coco100,https://www.ptt.cc/bbs/Beauty/M.1458824209.A.A0E.html\n",
      "[正妹],渴霧,3/24,gaiaesque,https://www.ptt.cc/bbs/Beauty/M.1458825300.A.914.html\n",
      "[正妹],台荷混血女孩,3/24,yolo0616,https://www.ptt.cc/bbs/Beauty/M.1458825497.A.8FC.html\n",
      "[正妹],馬爾泰若曦,3/24,jolyhsiao,https://www.ptt.cc/bbs/Beauty/M.1458830353.A.53D.html\n",
      "[神人],(重發附截圖)日本來台交換生,3/24,rufur,https://www.ptt.cc/bbs/Beauty/M.1458830662.A.9C5.html\n",
      "[公告],不願上表特,10/04,ffwind,https://www.ptt.cc/bbs/Beauty/M.1443906121.A.65B.html\n",
      "[公告],表特板板規,2/12,GeminiMan,https://www.ptt.cc/bbs/Beauty/M.1423752558.A.849.html\n",
      "[公告],對於謾罵，希望大家將心比心,4/27,ffwind,https://www.ptt.cc/bbs/Beauty/M.1430099938.A.3B7.html\n"
     ]
    }
   ],
   "source": [
    "from bs4 import BeautifulSoup as bs\n",
    "\n",
    "soup = bs(res.text)\n",
    "div = soup.select('.r-ent')\n",
    "for i in div:\n",
    "    try:\n",
    "        tags = i.select(\".title a\")[0].contents[0].split(' ')[0].encode('utf-8')\n",
    "        title = i.select(\".title a\")[0].contents[0].split(' ')[1].encode('utf-8')\n",
    "        date = i.select(\".date\")[0].contents[0].strip().encode('utf-8')\n",
    "        author = i.select(\".author\")[0].contents[0].encode('utf-8')\n",
    "        url = 'https://www.ptt.cc'+i.select(\".title a\")[0]['href'].encode('utf-8')\n",
    "        data = '{},{},{},{},{}'.format(tags,title,date,author,url)\n",
    "        print data\n",
    "    except:\n",
    "        pass"
   ]
  },
  {
   "cell_type": "code",
   "execution_count": 168,
   "metadata": {
    "collapsed": false
   },
   "outputs": [
    {
     "name": "stdout",
     "output_type": "stream",
     "text": [
      "https://www.ptt.cc/bbs/Beauty/index1775.html\n"
     ]
    }
   ],
   "source": [
    "n_page = soup.select('.btn.wide')\n",
    "next_page ='https://www.ptt.cc'+n_page[1]['href']\n",
    "print next_page\n",
    "    "
   ]
  },
  {
   "cell_type": "code",
   "execution_count": 56,
   "metadata": {
    "collapsed": false
   },
   "outputs": [
    {
     "name": "stdout",
     "output_type": "stream",
     "text": [
      "[神人],Azar小帥弟,3/24,qaaq0008,https://www.ptt.cc/bbs/Beauty/M.1458813542.A.7EB.html\n",
      "\n",
      "[神人],日本來台交換生,3/24,rufur,https://www.ptt.cc/bbs/Beauty/M.1458816074.A.376.html\n",
      "\n",
      "[正妹],Mary,3/24,coco100,https://www.ptt.cc/bbs/Beauty/M.1458824209.A.A0E.html\n",
      "\n",
      "[正妹],渴霧,3/24,gaiaesque,https://www.ptt.cc/bbs/Beauty/M.1458825300.A.914.html\n",
      "\n",
      "[正妹],台荷混血女孩,3/24,yolo0616,https://www.ptt.cc/bbs/Beauty/M.1458825497.A.8FC.html\n",
      "\n",
      "[公告],不願上表特,10/04,ffwind,https://www.ptt.cc/bbs/Beauty/M.1443906121.A.65B.html\n",
      "\n",
      "[公告],表特板板規,2/12,GeminiMan,https://www.ptt.cc/bbs/Beauty/M.1423752558.A.849.html\n",
      "\n",
      "[公告],對於謾罵，希望大家將心比心,4/27,ffwind,https://www.ptt.cc/bbs/Beauty/M.1430099938.A.3B7.html\n",
      "\n"
     ]
    }
   ],
   "source": [
    "with open('1.txt','w') as f:\n",
    "    for i in div:\n",
    "        try:\n",
    "            tags = i.select(\".title a\")[0].contents[0].split(' ')[0].encode('utf-8')\n",
    "            title = i.select(\".title a\")[0].contents[0].split(' ')[1].encode('utf-8')\n",
    "            date = i.select(\".date\")[0].contents[0].strip().encode('utf-8')\n",
    "            author = i.select(\".author\")[0].contents[0].encode('utf-8')\n",
    "            url = 'https://www.ptt.cc'+i.select(\".title a\")[0]['href'].encode('utf-8') \n",
    "            data = '{},{},{},{},{}\\n'.format(tags,title,date,author,url)\n",
    "            f.write(data)\n",
    "            print data\n",
    "        except:\n",
    "            pass"
   ]
  },
  {
   "cell_type": "markdown",
   "metadata": {},
   "source": [
    "## 一次爬多頁"
   ]
  },
  {
   "cell_type": "markdown",
   "metadata": {},
   "source": [
    "python 要開啟檔案時，可呼叫內建的函式  open(filename, mode)，mode有多種選擇：\n",
    "\n",
    "'r'：開啟檔案為讀取模式，此為預設模式。\n",
    "\n",
    "'w'：開啟檔案為可寫入模式，若檔案存在，則會被覆蓋內容。\n",
    "\n",
    "'a'：開啟檔案為可進行尾端附加寫入模式。\n",
    "\n",
    "'b'：檔案進行二進位資料處理"
   ]
  },
  {
   "cell_type": "markdown",
   "metadata": {},
   "source": [
    "### 換頁"
   ]
  },
  {
   "cell_type": "code",
   "execution_count": 162,
   "metadata": {
    "collapsed": false
   },
   "outputs": [],
   "source": [
    "def get_next(url,soup):\n",
    "    n_page = soup.select('.btn.wide')\n",
    "    next_page ='https://www.ptt.cc'+n_page[1]['href']\n",
    "    url.append(next_page)"
   ]
  },
  {
   "cell_type": "markdown",
   "metadata": {},
   "source": [
    "### 寫入"
   ]
  },
  {
   "cell_type": "code",
   "execution_count": 163,
   "metadata": {
    "collapsed": true
   },
   "outputs": [],
   "source": [
    "def sav_file(div):\n",
    "    with open('beauty_list.txt','a') as f:\n",
    "        for i in div:\n",
    "            try:\n",
    "                tags = i.select(\".title a\")[0].contents[0].split(' ')[0].encode('utf-8')\n",
    "                title = i.select(\".title a\")[0].contents[0].split(' ')[1].encode('utf-8')\n",
    "                date = i.select(\".date\")[0].contents[0].strip().encode('utf-8')\n",
    "                author = i.select(\".author\")[0].contents[0].encode('utf-8')\n",
    "                url = 'https://www.ptt.cc'+i.select(\".title a\")[0]['href'].encode('utf-8') \n",
    "                data = '{},{},{},{},{}\\n'.format(tags,title,date,author,url)\n",
    "                f.write(data)\n",
    "                print data\n",
    "            except:\n",
    "                pass"
   ]
  },
  {
   "cell_type": "markdown",
   "metadata": {},
   "source": [
    "### 讀網頁"
   ]
  },
  {
   "cell_type": "code",
   "execution_count": 164,
   "metadata": {
    "collapsed": true
   },
   "outputs": [],
   "source": [
    "def get_res(url,i):\n",
    "    head = {'User-Agent':'Mozilla/5.0 (Windows NT 6.1; WOW64) AppleWebKit/537.36 (KHTML, like Gecko) Chrome/48.0.2564.116 Safari/537.36'}\n",
    "    res = requests.get('{}'.format(url[i]), headers=head,stream=True)\n",
    "    soup = bs(res.text)\n",
    "    div = soup.select('.r-ent')\n",
    "    sav_file(div)\n",
    "    get_next(url,soup)"
   ]
  },
  {
   "cell_type": "markdown",
   "metadata": {},
   "source": [
    "### 主執行"
   ]
  },
  {
   "cell_type": "code",
   "execution_count": 165,
   "metadata": {
    "collapsed": true
   },
   "outputs": [
    {
     "name": "stdout",
     "output_type": "stream",
     "text": [
      "1\n",
      "[神人],Azar小帥弟,3/24,qaaq0008,https://www.ptt.cc/bbs/Beauty/M.1458813542.A.7EB.html\n",
      "\n",
      "[正妹],Mary,3/24,coco100,https://www.ptt.cc/bbs/Beauty/M.1458824209.A.A0E.html\n",
      "\n",
      "[正妹],渴霧,3/24,gaiaesque,https://www.ptt.cc/bbs/Beauty/M.1458825300.A.914.html\n",
      "\n",
      "[正妹],台荷混血女孩,3/24,yolo0616,https://www.ptt.cc/bbs/Beauty/M.1458825497.A.8FC.html\n",
      "\n",
      "[正妹],馬爾泰若曦,3/24,jolyhsiao,https://www.ptt.cc/bbs/Beauty/M.1458830353.A.53D.html\n",
      "\n",
      "[神人],(重發附截圖)日本來台交換生,3/24,rufur,https://www.ptt.cc/bbs/Beauty/M.1458830662.A.9C5.html\n",
      "\n",
      "[公告],不願上表特,10/04,ffwind,https://www.ptt.cc/bbs/Beauty/M.1443906121.A.65B.html\n",
      "\n",
      "[公告],表特板板規,2/12,GeminiMan,https://www.ptt.cc/bbs/Beauty/M.1423752558.A.849.html\n",
      "\n",
      "[公告],對於謾罵，希望大家將心比心,4/27,ffwind,https://www.ptt.cc/bbs/Beauty/M.1430099938.A.3B7.html\n",
      "\n",
      "2\n",
      "[神人],網路上看到的不知名正妹,3/24,evilplayer,https://www.ptt.cc/bbs/Beauty/M.1458783414.A.D73.html\n",
      "\n",
      "[神人],柯P施政滿意度報導中的女記者,3/24,NeoKing,https://www.ptt.cc/bbs/Beauty/M.1458783939.A.56B.html\n",
      "\n",
      "[正妹],石橋杏奈,3/24,yoyonigo,https://www.ptt.cc/bbs/Beauty/M.1458784242.A.880.html\n",
      "\n",
      "[公告],david7112123,3/24,ffwind,https://www.ptt.cc/bbs/Beauty/M.1458789235.A.A67.html\n",
      "\n",
      "[公告],DareJ,3/24,ffwind,https://www.ptt.cc/bbs/Beauty/M.1458789331.A.F19.html\n",
      "\n",
      "[正妹],Instagram,3/24,PoOoOoK,https://www.ptt.cc/bbs/Beauty/M.1458791203.A.D54.html\n",
      "\n",
      "[神人],S曲線女和可愛長腿妹,3/24,ken29228468,https://www.ptt.cc/bbs/Beauty/M.1458792352.A.5E9.html\n",
      "\n",
      "[正妹],個性甜美才華小隻馬,3/24,zlsh1127,https://www.ptt.cc/bbs/Beauty/M.1458794113.A.0F0.html\n",
      "\n",
      "[神人],眼睛漂亮的女記者,3/24,mumixamx,https://www.ptt.cc/bbs/Beauty/M.1458794432.A.77A.html\n",
      "\n",
      "[正妹],甜美女孩,3/24,zxc93528,https://www.ptt.cc/bbs/Beauty/M.1458794780.A.ED0.html\n",
      "\n",
      "[神人],每天都是生日MV,3/24,vincent14,https://www.ptt.cc/bbs/Beauty/M.1458796697.A.A07.html\n",
      "\n",
      "[正妹],寰宇新聞主播,3/24,air451361,https://www.ptt.cc/bbs/Beauty/M.1458809811.A.A32.html\n",
      "\n",
      "[正妹],航空篇-氣質甜美,3/24,qscxz,https://www.ptt.cc/bbs/Beauty/M.1458812719.A.900.html\n",
      "\n",
      "3\n",
      "[神人],幫忙神一下這位SG,3/23,wulala08,https://www.ptt.cc/bbs/Beauty/M.1458724861.A.D53.html\n",
      "\n",
      "[正妹],奶,3/23,lazack,https://www.ptt.cc/bbs/Beauty/M.1458726525.A.3AF.html\n",
      "\n",
      "[正妹],上西星来,3/23,gaiaesque,https://www.ptt.cc/bbs/Beauty/M.1458728783.A.DD6.html\n",
      "\n",
      "[正妹],神級之女神,3/23,Superman007,https://www.ptt.cc/bbs/Beauty/M.1458728787.A.735.html\n",
      "\n",
      "[正妹],米木拉,3/23,Cialis,https://www.ptt.cc/bbs/Beauty/M.1458729584.A.0C7.html\n",
      "\n",
      "[神人],『慢半拍-瘋旅行』Debbie,3/23,lalbj,https://www.ptt.cc/bbs/Beauty/M.1458733810.A.497.html\n",
      "\n",
      "Re:,[正妹],3/23,MarioBro,https://www.ptt.cc/bbs/Beauty/M.1458739041.A.B30.html\n",
      "\n",
      "[正妹],王晨羲,3/23,savetheworld,https://www.ptt.cc/bbs/Beauty/M.1458739793.A.8F3.html\n",
      "\n",
      "[正妹],志玲姊姊6個願望一次滿足溜～,3/23,LD8735,https://www.ptt.cc/bbs/Beauty/M.1458742630.A.5E7.html\n",
      "\n",
      "[正妹],Daniela,3/23,Aotearoa,https://www.ptt.cc/bbs/Beauty/M.1458745142.A.511.html\n",
      "\n",
      "[正妹],航空篇-甜美可愛,3/23,qscxz,https://www.ptt.cc/bbs/Beauty/M.1458745309.A.5D2.html\n",
      "\n",
      "[正妹],肉色,3/23,sy267180,https://www.ptt.cc/bbs/Beauty/M.1458748545.A.718.html\n",
      "\n",
      "[神人],深夜無眠，求神不熟的舊同學,3/24,imbrken,https://www.ptt.cc/bbs/Beauty/M.1458760439.A.FBF.html\n",
      "\n",
      "[正妹],短髮開朗少女,3/24,sweetpotat,https://www.ptt.cc/bbs/Beauty/M.1458780617.A.160.html\n",
      "\n",
      "4\n",
      "[正妹],FB看到的斑比師傅,3/22,hide0502,https://www.ptt.cc/bbs/Beauty/M.1458658320.A.144.html\n",
      "\n",
      "[正妹],辣空姐x2,3/22,sy267180,https://www.ptt.cc/bbs/Beauty/M.1458661691.A.C4B.html\n",
      "\n",
      "[正妹],出賣朋友小清新,3/22,onlytako,https://www.ptt.cc/bbs/Beauty/M.1458662304.A.BEA.html\n",
      "\n",
      "[正妹],用餐看到的可愛小蘿莉,3/23,x8501991,https://www.ptt.cc/bbs/Beauty/M.1458662666.A.B96.html\n",
      "\n",
      "[正妹],清新,3/23,mk820904,https://www.ptt.cc/bbs/Beauty/M.1458669139.A.45F.html\n",
      "\n",
      "[神人],line上面看到的,3/23,will0720,https://www.ptt.cc/bbs/Beauty/M.1458671508.A.74B.html\n",
      "\n",
      "[正妹],櫻花妹,3/23,mezhaowanyu,https://www.ptt.cc/bbs/Beauty/M.1458696469.A.35A.html\n",
      "\n",
      "[正妹],奶特,3/23,lazack,https://www.ptt.cc/bbs/Beauty/M.1458699515.A.A00.html\n",
      "\n",
      "[正妹],航空篇-性感甜姐,3/23,qscxz,https://www.ptt.cc/bbs/Beauty/M.1458702345.A.7F9.html\n",
      "\n",
      "[正妹],FB看到的網拍正妹,3/23,huskymilk,https://www.ptt.cc/bbs/Beauty/M.1458704768.A.E7C.html\n",
      "\n",
      "[神人],新聞上面看到的妹,3/23,biztal,https://www.ptt.cc/bbs/Beauty/M.1458709268.A.39D.html\n",
      "\n",
      "[正妹],A4,3/23,somebody1025,https://www.ptt.cc/bbs/Beauty/M.1458718682.A.FD4.html\n",
      "\n",
      "[正妹],鄰家女孩,3/23,aotp1040,https://www.ptt.cc/bbs/Beauty/M.1458723742.A.3C5.html\n",
      "\n",
      "5\n",
      "[正妹],航空篇-輕熟甜美,3/22,qscxz,https://www.ptt.cc/bbs/Beauty/M.1458614340.A.B09.html\n",
      "\n",
      "[正妹],便利商店清新正妹一枚,3/22,higheagle12,https://www.ptt.cc/bbs/Beauty/M.1458622705.A.789.html\n",
      "\n",
      "[正妹],奶特,3/22,lazack,https://www.ptt.cc/bbs/Beauty/M.1458624481.A.58B.html\n",
      "\n",
      "[正妹],可愛a虎牙,3/22,g66856aa,https://www.ptt.cc/bbs/Beauty/M.1458625598.A.1CA.html\n",
      "\n",
      "[正妹],出賣朋友,3/22,favaefaf,https://www.ptt.cc/bbs/Beauty/M.1458625652.A.B3B.html\n",
      "\n",
      "[正妹],兩位,3/22,lazack,https://www.ptt.cc/bbs/Beauty/M.1458628045.A.DC6.html\n",
      "\n",
      "[正妹],SG辣模,3/22,yoyoboys1335,https://www.ptt.cc/bbs/Beauty/M.1458631146.A.591.html\n",
      "\n",
      "[正妹],嫁來台灣的,3/22,OGC789456123,https://www.ptt.cc/bbs/Beauty/M.1458632562.A.0FF.html\n",
      "\n",
      "[帥哥],謝哲青,3/22,jolyhsiao,https://www.ptt.cc/bbs/Beauty/M.1458645621.A.D1D.html\n",
      "\n",
      "[正妹],清秀正妹,3/22,gaiaesque,https://www.ptt.cc/bbs/Beauty/M.1458646056.A.C29.html\n",
      "\n",
      "[正妹],清新白皙,3/22,zxc7,https://www.ptt.cc/bbs/Beauty/M.1458646829.A.F16.html\n",
      "\n",
      "[神人],幫神,3/22,jjj0258000,https://www.ptt.cc/bbs/Beauty/M.1458647016.A.683.html\n",
      "\n",
      "[正妹],天使臉孔魔鬼身材之妳還記得她嗎？,3/22,eric830204,https://www.ptt.cc/bbs/Beauty/M.1458654810.A.AF8.html\n",
      "\n",
      "[正妹],天氣女孩,3/22,zxc93528,https://www.ptt.cc/bbs/Beauty/M.1458656628.A.01C.html\n",
      "\n",
      "6\n",
      "[公告],hothero520,3/21,ffwind,https://www.ptt.cc/bbs/Beauty/M.1458566740.A.889.html\n",
      "\n",
      "[正妹],宵夜-連身泳衣,3/21,victorW5566,https://www.ptt.cc/bbs/Beauty/M.1458568123.A.FC7.html\n",
      "\n",
      "[神人],MFC亞洲女主播,3/21,besontw3816,https://www.ptt.cc/bbs/Beauty/M.1458571340.A.091.html\n",
      "\n",
      "[正妹],好久沒看到有人po小燕了,3/21,andy87115,https://www.ptt.cc/bbs/Beauty/M.1458574777.A.2B6.html\n",
      "\n",
      "Fw:,[神人],3/21,XPXCXOXD,https://www.ptt.cc/bbs/Beauty/M.1458574804.A.B28.html\n",
      "\n",
      "[正妹],職棒緯來拍到的正妹陳志瑜！,3/21,black744,https://www.ptt.cc/bbs/Beauty/M.1458575135.A.35C.html\n",
      "\n",
      "[神人],Too,3/21,alternate,https://www.ptt.cc/bbs/Beauty/M.1458575222.A.436.html\n",
      "\n",
      "[正妹],師大清新校花,3/21,bearcarter,https://www.ptt.cc/bbs/Beauty/M.1458575443.A.CB3.html\n",
      "\n",
      "[正妹],北醫藥學系,3/22,ogc60110,https://www.ptt.cc/bbs/Beauty/M.1458576104.A.0AB.html\n",
      "\n",
      "[正妹],清水,3/22,yuigood,https://www.ptt.cc/bbs/Beauty/M.1458577373.A.4DF.html\n",
      "\n",
      "[正妹],cute空姐,3/22,sy267180,https://www.ptt.cc/bbs/Beauty/M.1458577615.A.3F8.html\n",
      "\n",
      "[帥哥],有臉蛋有身材賣教練,3/22,happy17123,https://www.ptt.cc/bbs/Beauty/M.1458580091.A.2C6.html\n",
      "\n",
      "[神人],2015爐石觀眾,3/22,sasd2020,https://www.ptt.cc/bbs/Beauty/M.1458583564.A.D77.html\n",
      "\n",
      "[公告],niguan,3/22,ffwind,https://www.ptt.cc/bbs/Beauty/M.1458611167.A.A91.html\n",
      "\n",
      "7\n",
      "[神人],手機app上的廣告妹子,3/21,lance8537,https://www.ptt.cc/bbs/Beauty/M.1458541883.A.2E9.html\n",
      "\n",
      "[正妹],航空篇-可惡的熊,3/21,qscxz,https://www.ptt.cc/bbs/Beauty/M.1458546755.A.AB3.html\n",
      "\n",
      "[正妹],一網情深,3/21,gaiaesque,https://www.ptt.cc/bbs/Beauty/M.1458551203.A.6CA.html\n",
      "\n",
      "[正妹],日本嫁來台灣的人妻,3/21,OGC789456123,https://www.ptt.cc/bbs/Beauty/M.1458557027.A.99F.html\n",
      "\n",
      "[正妹],英屬哥倫比亞大學金融系,3/21,a452136,https://www.ptt.cc/bbs/Beauty/M.1458560439.A.C2F.html\n",
      "\n",
      "[正妹],葵若菜,3/21,Cialis,https://www.ptt.cc/bbs/Beauty/M.1458560984.A.DFC.html\n",
      "\n",
      "[正妹],Kyla,3/21,Aotearoa,https://www.ptt.cc/bbs/Beauty/M.1458563816.A.41F.html\n",
      "\n",
      "[正妹],高田夏帆,3/21,makilaifan,https://www.ptt.cc/bbs/Beauty/M.1458565190.A.87F.html\n",
      "\n",
      "[廣告],冷豔型正妹(FB篇),3/21,jolyhsiao,https://www.ptt.cc/bbs/Beauty/M.1458565676.A.89E.html\n",
      "\n",
      "8\n",
      "[正妹],電棒燙正妹,3/20,andy199113,https://www.ptt.cc/bbs/Beauty/M.1458481254.A.041.html\n",
      "\n",
      "[正妹],憂鬱系正妹,3/20,gaiaesque,https://www.ptt.cc/bbs/Beauty/M.1458482129.A.7C5.html\n",
      "\n",
      "[正妹],武田舞彩,3/20,makilaifan,https://www.ptt.cc/bbs/Beauty/M.1458483138.A.BE8.html\n",
      "\n",
      "[正妹],胸懷大志,3/20,postar,https://www.ptt.cc/bbs/Beauty/M.1458484411.A.682.html\n",
      "\n",
      "[正妹],航空篇-黑斯女孩,3/20,qscxz,https://www.ptt.cc/bbs/Beauty/M.1458486753.A.980.html\n",
      "\n",
      "[正妹],可愛空姐,3/20,sy267180,https://www.ptt.cc/bbs/Beauty/M.1458488871.A.6AE.html\n",
      "\n",
      "[正妹],車友活動看到正妹，求神,3/21,Edward333,https://www.ptt.cc/bbs/Beauty/M.1458490618.A.2FF.html\n",
      "\n",
      "[神人],和服姐?,3/21,Gentleman,https://www.ptt.cc/bbs/Beauty/M.1458496340.A.0A0.html\n",
      "\n",
      "[神人],八卦版統聯客運正妹,3/21,pchion2013,https://www.ptt.cc/bbs/Beauty/M.1458500074.A.08C.html\n",
      "\n",
      "[正妹],周奇奇,3/21,toliver123,https://www.ptt.cc/bbs/Beauty/M.1458510058.A.D23.html\n",
      "\n",
      "[挑戰],出賣舊情人,3/21,toliver123,https://www.ptt.cc/bbs/Beauty/M.1458510731.A.FFD.html\n",
      "\n",
      "Re:,[神人],3/21,poca777,https://www.ptt.cc/bbs/Beauty/M.1458516089.A.857.html\n",
      "\n",
      "[正妹],兩位,3/21,lazack,https://www.ptt.cc/bbs/Beauty/M.1458527310.A.161.html\n",
      "\n",
      "[神人],凱擘311台,3/21,ccckkkaa,https://www.ptt.cc/bbs/Beauty/M.1458527918.A.2F4.html\n",
      "\n",
      "[神人],神這位女記者,3/21,HYH,https://www.ptt.cc/bbs/Beauty/M.1458535782.A.8B7.html\n",
      "\n",
      "9\n",
      "[神人],萬金石馬拉松acer,3/20,littlefat930,https://www.ptt.cc/bbs/Beauty/M.1458456608.A.4DE.html\n",
      "\n",
      "[正妹],航空篇-高挑氣質,3/20,qscxz,https://www.ptt.cc/bbs/Beauty/M.1458457548.A.6EC.html\n",
      "\n",
      "[正妹],麥當勞接待員,3/20,love851123i,https://www.ptt.cc/bbs/Beauty/M.1458459193.A.D3D.html\n",
      "\n",
      "[神人],愛菲爾家具廣告,3/20,yw1002,https://www.ptt.cc/bbs/Beauty/M.1458461718.A.559.html\n",
      "\n",
      "[正妹],文化國劇,3/20,a452136,https://www.ptt.cc/bbs/Beauty/M.1458463634.A.2DB.html\n",
      "\n",
      "[正妹],開賽前兄弟象正妹球迷,3/20,a8239060,https://www.ptt.cc/bbs/Beauty/M.1458468472.A.98D.html\n",
      "\n",
      "Re:,[神人],3/20,TaipeiKindom,https://www.ptt.cc/bbs/Beauty/M.1458468629.A.88C.html\n",
      "\n",
      "[正妹],緯來攝影師好樣的！,3/20,hunA,https://www.ptt.cc/bbs/Beauty/M.1458468834.A.8DB.html\n",
      "\n",
      "[神人],在網路上看到大正妹,3/20,austin97112,https://www.ptt.cc/bbs/Beauty/M.1458475861.A.360.html\n",
      "\n",
      "[正妹],松井愛莉,3/20,Cialis,https://www.ptt.cc/bbs/Beauty/M.1458476262.A.FE7.html\n",
      "\n",
      "[神人],今天國道馬拉松妹子,3/20,s931312,https://www.ptt.cc/bbs/Beauty/M.1458476281.A.68D.html\n",
      "\n",
      "[神人],日本的髮型網站模特兒,3/20,dwarf000123,https://www.ptt.cc/bbs/Beauty/M.1458478069.A.6A6.html\n",
      "\n",
      "[神人],不要鬧法國女孩,3/20,atp3306,https://www.ptt.cc/bbs/Beauty/M.1458478291.A.27B.html\n",
      "\n",
      "[新聞],HBL／3月20日場邊我最美,3/20,conk,https://www.ptt.cc/bbs/Beauty/M.1458478967.A.A42.html\n",
      "\n",
      "10\n",
      "[神人],可以幫神這個人嗎,3/19,hate30145,https://www.ptt.cc/bbs/Beauty/M.1458398685.A.DE6.html\n",
      "\n",
      "[神人],長榮空姐,3/19,darrenxvi,https://www.ptt.cc/bbs/Beauty/M.1458398866.A.DB6.html\n",
      "\n",
      "[神人],華航空姐,3/19,tsmmlb,https://www.ptt.cc/bbs/Beauty/M.1458399870.A.086.html\n",
      "\n",
      "[正妹],護理師,3/19,sin17,https://www.ptt.cc/bbs/Beauty/M.1458400453.A.647.html\n",
      "\n",
      "[正妹],清新脫俗女學生,3/19,teramars,https://www.ptt.cc/bbs/Beauty/M.1458401118.A.63C.html\n",
      "\n",
      "[神人],旗袍美腿正妹,3/19,kaori1220,https://www.ptt.cc/bbs/Beauty/M.1458401574.A.7D0.html\n",
      "\n",
      "[神人],應該也是長榮空姐,3/20,nasa1030,https://www.ptt.cc/bbs/Beauty/M.1458414502.A.CF7.html\n",
      "\n",
      "[正妹],偶然看到fb好友的朋友,3/20,chakobaby,https://www.ptt.cc/bbs/Beauty/M.1458417765.A.B04.html\n",
      "\n",
      "[公告],ansfans,3/20,GeminiMan,https://www.ptt.cc/bbs/Beauty/M.1458442169.A.DF1.html\n",
      "\n",
      "[神人],中職27年開幕戰的女性場務人員,3/20,NeoKing,https://www.ptt.cc/bbs/Beauty/M.1458444188.A.AFB.html\n",
      "\n",
      "[正妹],華視蔡尚樺,3/20,microXD,https://www.ptt.cc/bbs/Beauty/M.1458446607.A.408.html\n",
      "\n",
      "[神人],這個女老師是誰演的?,3/20,LoveWin7,https://www.ptt.cc/bbs/Beauty/M.1458447055.A.219.html\n",
      "\n",
      "[神人],求神,3/20,canvas0403,https://www.ptt.cc/bbs/Beauty/M.1458454576.A.408.html\n",
      "\n"
     ]
    }
   ],
   "source": [
    "import requests\n",
    "import shutil\n",
    "import time\n",
    "from bs4 import BeautifulSoup as bs\n",
    "\n",
    "url1 = ['https://www.ptt.cc/bbs/Beauty/index.html']\n",
    "for i in xrange(10):\n",
    "    print i+1\n",
    "    get_res(url1,i)\n",
    "    time.sleep(3)"
   ]
  }
 ],
 "metadata": {
  "kernelspec": {
   "display_name": "Python 2",
   "language": "python",
   "name": "python2"
  },
  "language_info": {
   "codemirror_mode": {
    "name": "ipython",
    "version": 2
   },
   "file_extension": ".py",
   "mimetype": "text/x-python",
   "name": "python",
   "nbconvert_exporter": "python",
   "pygments_lexer": "ipython2",
   "version": "2.7.11"
  }
 },
 "nbformat": 4,
 "nbformat_minor": 0
}
